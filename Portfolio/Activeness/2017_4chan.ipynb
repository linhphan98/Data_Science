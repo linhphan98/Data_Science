{
 "cells": [
  {
   "cell_type": "code",
   "execution_count": 1,
   "metadata": {},
   "outputs": [],
   "source": [
    "# guessing race based on training set\n",
    "# src: https://www.kaggle.com/raford2/2017-census-data-for-4chans-fitness-board\n",
    "import pandas as pd\n",
    "import matplotlib.pyplot as plt\n",
    "import numpy as np\n",
    "import seaborn as sns\n",
    "%matplotlib inline"
   ]
  },
  {
   "cell_type": "code",
   "execution_count": 5,
   "metadata": {},
   "outputs": [],
   "source": [
    "df = pd.read_csv('2017_4chan_fit_census.csv',encoding= 'unicode_escape')"
   ]
  },
  {
   "cell_type": "code",
   "execution_count": 10,
   "metadata": {},
   "outputs": [
    {
     "data": {
      "text/html": [
       "<div>\n",
       "<style scoped>\n",
       "    .dataframe tbody tr th:only-of-type {\n",
       "        vertical-align: middle;\n",
       "    }\n",
       "\n",
       "    .dataframe tbody tr th {\n",
       "        vertical-align: top;\n",
       "    }\n",
       "\n",
       "    .dataframe thead th {\n",
       "        text-align: right;\n",
       "    }\n",
       "</style>\n",
       "<table border=\"1\" class=\"dataframe\">\n",
       "  <thead>\n",
       "    <tr style=\"text-align: right;\">\n",
       "      <th></th>\n",
       "      <th>count</th>\n",
       "      <th>unique</th>\n",
       "      <th>top</th>\n",
       "      <th>freq</th>\n",
       "    </tr>\n",
       "  </thead>\n",
       "  <tbody>\n",
       "    <tr>\n",
       "      <th>Timestamp</th>\n",
       "      <td>2032</td>\n",
       "      <td>1498</td>\n",
       "      <td>12/8/17 20:32</td>\n",
       "      <td>6</td>\n",
       "    </tr>\n",
       "    <tr>\n",
       "      <th>How old are you?</th>\n",
       "      <td>2032</td>\n",
       "      <td>5</td>\n",
       "      <td>18-22 years old</td>\n",
       "      <td>955</td>\n",
       "    </tr>\n",
       "    <tr>\n",
       "      <th>How long have you been training?</th>\n",
       "      <td>2032</td>\n",
       "      <td>8</td>\n",
       "      <td>1-2 Years</td>\n",
       "      <td>462</td>\n",
       "    </tr>\n",
       "    <tr>\n",
       "      <th>What exercise routine are you currently following?</th>\n",
       "      <td>2031</td>\n",
       "      <td>116</td>\n",
       "      <td>General Strength Training</td>\n",
       "      <td>872</td>\n",
       "    </tr>\n",
       "    <tr>\n",
       "      <th>Which of these if any do you wish to compete in at some point in your lifting career?</th>\n",
       "      <td>684</td>\n",
       "      <td>21</td>\n",
       "      <td>Powerlifting</td>\n",
       "      <td>170</td>\n",
       "    </tr>\n",
       "    <tr>\n",
       "      <th>How much do you weigh?</th>\n",
       "      <td>2032</td>\n",
       "      <td>8</td>\n",
       "      <td>74-83kg(163-183lbs)</td>\n",
       "      <td>562</td>\n",
       "    </tr>\n",
       "    <tr>\n",
       "      <th>How tall are you?</th>\n",
       "      <td>2032</td>\n",
       "      <td>8</td>\n",
       "      <td>1.83-1.85m(6'0-6'1)</td>\n",
       "      <td>525</td>\n",
       "    </tr>\n",
       "    <tr>\n",
       "      <th>What is your Body Fat%? (just guess you fucker)</th>\n",
       "      <td>2032</td>\n",
       "      <td>10</td>\n",
       "      <td>15-16%</td>\n",
       "      <td>424</td>\n",
       "    </tr>\n",
       "    <tr>\n",
       "      <th>Are you natty?</th>\n",
       "      <td>2032</td>\n",
       "      <td>2</td>\n",
       "      <td>Yes</td>\n",
       "      <td>1886</td>\n",
       "    </tr>\n",
       "    <tr>\n",
       "      <th>How much can you bench (1RM)?</th>\n",
       "      <td>2032</td>\n",
       "      <td>8</td>\n",
       "      <td>(60kg/132lbs)-(80kg/176lbs)</td>\n",
       "      <td>480</td>\n",
       "    </tr>\n",
       "    <tr>\n",
       "      <th>How much can you squat(1RM)?</th>\n",
       "      <td>2032</td>\n",
       "      <td>10</td>\n",
       "      <td>(60kg/132lbs)-(100kg/220lbs)</td>\n",
       "      <td>454</td>\n",
       "    </tr>\n",
       "    <tr>\n",
       "      <th>How much can you deadlift(1RM)?</th>\n",
       "      <td>2032</td>\n",
       "      <td>8</td>\n",
       "      <td>(100kg/220lbs)-(140kg/308lbs)</td>\n",
       "      <td>505</td>\n",
       "    </tr>\n",
       "    <tr>\n",
       "      <th>How fast can you run a mile?</th>\n",
       "      <td>2032</td>\n",
       "      <td>9</td>\n",
       "      <td>&gt;Cardio</td>\n",
       "      <td>759</td>\n",
       "    </tr>\n",
       "    <tr>\n",
       "      <th>Bulking or Cutting?</th>\n",
       "      <td>2032</td>\n",
       "      <td>3</td>\n",
       "      <td>Bulking</td>\n",
       "      <td>882</td>\n",
       "    </tr>\n",
       "    <tr>\n",
       "      <th>Lifting for____?</th>\n",
       "      <td>2032</td>\n",
       "      <td>211</td>\n",
       "      <td>Strength</td>\n",
       "      <td>180</td>\n",
       "    </tr>\n",
       "    <tr>\n",
       "      <th>What drugs if any do you take?</th>\n",
       "      <td>2032</td>\n",
       "      <td>42</td>\n",
       "      <td>I'm not a degenerate hedonist</td>\n",
       "      <td>883</td>\n",
       "    </tr>\n",
       "    <tr>\n",
       "      <th>How often do you play video games?</th>\n",
       "      <td>1596</td>\n",
       "      <td>7</td>\n",
       "      <td>1-3 hours a week</td>\n",
       "      <td>395</td>\n",
       "    </tr>\n",
       "    <tr>\n",
       "      <th>How often do you browse /fit/ a day?</th>\n",
       "      <td>2032</td>\n",
       "      <td>4</td>\n",
       "      <td>&lt;1 hour</td>\n",
       "      <td>1018</td>\n",
       "    </tr>\n",
       "    <tr>\n",
       "      <th>Favorite Music Genre?</th>\n",
       "      <td>2031</td>\n",
       "      <td>183</td>\n",
       "      <td>Rock(and all variations/derivatives)</td>\n",
       "      <td>525</td>\n",
       "    </tr>\n",
       "    <tr>\n",
       "      <th>What general region of the world do you live in?</th>\n",
       "      <td>2032</td>\n",
       "      <td>90</td>\n",
       "      <td>Northeastern US</td>\n",
       "      <td>214</td>\n",
       "    </tr>\n",
       "    <tr>\n",
       "      <th>What best describes your political views</th>\n",
       "      <td>2032</td>\n",
       "      <td>111</td>\n",
       "      <td>Conservative</td>\n",
       "      <td>504</td>\n",
       "    </tr>\n",
       "    <tr>\n",
       "      <th>How often do you masturbate?</th>\n",
       "      <td>1921</td>\n",
       "      <td>5</td>\n",
       "      <td>Multiple times a week</td>\n",
       "      <td>817</td>\n",
       "    </tr>\n",
       "    <tr>\n",
       "      <th>What is your sexuality?</th>\n",
       "      <td>2032</td>\n",
       "      <td>2</td>\n",
       "      <td>Heterosexual</td>\n",
       "      <td>1897</td>\n",
       "    </tr>\n",
       "    <tr>\n",
       "      <th>What group needs to leave /fit/ forever</th>\n",
       "      <td>2031</td>\n",
       "      <td>144</td>\n",
       "      <td>/pol/</td>\n",
       "      <td>497</td>\n",
       "    </tr>\n",
       "    <tr>\n",
       "      <th>Are you a virgin?</th>\n",
       "      <td>2032</td>\n",
       "      <td>2</td>\n",
       "      <td>No</td>\n",
       "      <td>1290</td>\n",
       "    </tr>\n",
       "    <tr>\n",
       "      <th>Are you in a relationship currently?</th>\n",
       "      <td>2032</td>\n",
       "      <td>2</td>\n",
       "      <td>no</td>\n",
       "      <td>1392</td>\n",
       "    </tr>\n",
       "    <tr>\n",
       "      <th>Best Type of Thread on /fit/</th>\n",
       "      <td>2032</td>\n",
       "      <td>10</td>\n",
       "      <td>Fit Humor Threads</td>\n",
       "      <td>504</td>\n",
       "    </tr>\n",
       "    <tr>\n",
       "      <th>Are you happy with where you are in your fitness career?</th>\n",
       "      <td>2032</td>\n",
       "      <td>2</td>\n",
       "      <td>No</td>\n",
       "      <td>1253</td>\n",
       "    </tr>\n",
       "    <tr>\n",
       "      <th>r u a grill</th>\n",
       "      <td>2032</td>\n",
       "      <td>2</td>\n",
       "      <td>no</td>\n",
       "      <td>1976</td>\n",
       "    </tr>\n",
       "    <tr>\n",
       "      <th>Highest education level you have?</th>\n",
       "      <td>2032</td>\n",
       "      <td>6</td>\n",
       "      <td>Currently In Undergrad</td>\n",
       "      <td>788</td>\n",
       "    </tr>\n",
       "    <tr>\n",
       "      <th>What are your eating habits like?</th>\n",
       "      <td>2032</td>\n",
       "      <td>4</td>\n",
       "      <td>Non-regimented Diet</td>\n",
       "      <td>877</td>\n",
       "    </tr>\n",
       "    <tr>\n",
       "      <th>How big is ur pee pee</th>\n",
       "      <td>2032</td>\n",
       "      <td>11</td>\n",
       "      <td>6-6.5 inches</td>\n",
       "      <td>518</td>\n",
       "    </tr>\n",
       "    <tr>\n",
       "      <th>What race are you?</th>\n",
       "      <td>2032</td>\n",
       "      <td>8</td>\n",
       "      <td>White</td>\n",
       "      <td>1579</td>\n",
       "    </tr>\n",
       "    <tr>\n",
       "      <th>How many ACTUAL friends do you have(you must hang out with these people regularly)</th>\n",
       "      <td>2032</td>\n",
       "      <td>5</td>\n",
       "      <td>6-Apr</td>\n",
       "      <td>632</td>\n",
       "    </tr>\n",
       "    <tr>\n",
       "      <th>How much can you The Pressª(1RM)?</th>\n",
       "      <td>2032</td>\n",
       "      <td>9</td>\n",
       "      <td>*tips hat*</td>\n",
       "      <td>482</td>\n",
       "    </tr>\n",
       "    <tr>\n",
       "      <th>Is Rebeka Koha cute?</th>\n",
       "      <td>2032</td>\n",
       "      <td>2</td>\n",
       "      <td>yes</td>\n",
       "      <td>1387</td>\n",
       "    </tr>\n",
       "    <tr>\n",
       "      <th>What type of employment are you currently engaged in?</th>\n",
       "      <td>2032</td>\n",
       "      <td>4</td>\n",
       "      <td>Full Time Job</td>\n",
       "      <td>677</td>\n",
       "    </tr>\n",
       "  </tbody>\n",
       "</table>\n",
       "</div>"
      ],
      "text/plain": [
       "                                                   count unique  \\\n",
       "Timestamp                                           2032   1498   \n",
       "How old are you?                                    2032      5   \n",
       "How long have you been training?                    2032      8   \n",
       "What exercise routine are you currently following?  2031    116   \n",
       "Which of these if any do you wish to compete in...   684     21   \n",
       "How much do you weigh?                              2032      8   \n",
       "How tall are you?                                   2032      8   \n",
       "What is your Body Fat%? (just guess you fucker)     2032     10   \n",
       "Are you natty?                                      2032      2   \n",
       "How much can you bench (1RM)?                       2032      8   \n",
       "How much can you squat(1RM)?                        2032     10   \n",
       "How much can you deadlift(1RM)?                     2032      8   \n",
       "How fast can you run a mile?                        2032      9   \n",
       "Bulking or Cutting?                                 2032      3   \n",
       "Lifting for____?                                    2032    211   \n",
       "What drugs if any do you take?                      2032     42   \n",
       "How often do you play video games?                  1596      7   \n",
       "How often do you browse /fit/ a day?                2032      4   \n",
       "Favorite Music Genre?                               2031    183   \n",
       "What general region of the world do you live in?    2032     90   \n",
       "What best describes your political views            2032    111   \n",
       "How often do you masturbate?                        1921      5   \n",
       "What is your sexuality?                             2032      2   \n",
       "What group needs to leave /fit/ forever             2031    144   \n",
       "Are you a virgin?                                   2032      2   \n",
       "Are you in a relationship currently?                2032      2   \n",
       "Best Type of Thread on /fit/                        2032     10   \n",
       "Are you happy with where you are in your fitnes...  2032      2   \n",
       "r u a grill                                         2032      2   \n",
       "Highest education level you have?                   2032      6   \n",
       "What are your eating habits like?                   2032      4   \n",
       "How big is ur pee pee                               2032     11   \n",
       "What race are you?                                  2032      8   \n",
       "How many ACTUAL friends do you have(you must ha...  2032      5   \n",
       "How much can you The Pressª(1RM)?                   2032      9   \n",
       "Is Rebeka Koha cute?                                2032      2   \n",
       "What type of employment are you currently engag...  2032      4   \n",
       "\n",
       "                                                                                     top  \\\n",
       "Timestamp                                                                  12/8/17 20:32   \n",
       "How old are you?                                                         18-22 years old   \n",
       "How long have you been training?                                               1-2 Years   \n",
       "What exercise routine are you currently following?             General Strength Training   \n",
       "Which of these if any do you wish to compete in...                          Powerlifting   \n",
       "How much do you weigh?                                               74-83kg(163-183lbs)   \n",
       "How tall are you?                                                    1.83-1.85m(6'0-6'1)   \n",
       "What is your Body Fat%? (just guess you fucker)                                   15-16%   \n",
       "Are you natty?                                                                       Yes   \n",
       "How much can you bench (1RM)?                                (60kg/132lbs)-(80kg/176lbs)   \n",
       "How much can you squat(1RM)?                                (60kg/132lbs)-(100kg/220lbs)   \n",
       "How much can you deadlift(1RM)?                            (100kg/220lbs)-(140kg/308lbs)   \n",
       "How fast can you run a mile?                                                     >Cardio   \n",
       "Bulking or Cutting?                                                              Bulking   \n",
       "Lifting for____?                                                                Strength   \n",
       "What drugs if any do you take?                             I'm not a degenerate hedonist   \n",
       "How often do you play video games?                                      1-3 hours a week   \n",
       "How often do you browse /fit/ a day?                                             <1 hour   \n",
       "Favorite Music Genre?                               Rock(and all variations/derivatives)   \n",
       "What general region of the world do you live in?                         Northeastern US   \n",
       "What best describes your political views                                    Conservative   \n",
       "How often do you masturbate?                                       Multiple times a week   \n",
       "What is your sexuality?                                                     Heterosexual   \n",
       "What group needs to leave /fit/ forever                                            /pol/   \n",
       "Are you a virgin?                                                                     No   \n",
       "Are you in a relationship currently?                                                  no   \n",
       "Best Type of Thread on /fit/                                           Fit Humor Threads   \n",
       "Are you happy with where you are in your fitnes...                                    No   \n",
       "r u a grill                                                                           no   \n",
       "Highest education level you have?                                 Currently In Undergrad   \n",
       "What are your eating habits like?                                    Non-regimented Diet   \n",
       "How big is ur pee pee                                                       6-6.5 inches   \n",
       "What race are you?                                                                 White   \n",
       "How many ACTUAL friends do you have(you must ha...                                 6-Apr   \n",
       "How much can you The Pressª(1RM)?                                             *tips hat*   \n",
       "Is Rebeka Koha cute?                                                                 yes   \n",
       "What type of employment are you currently engag...                         Full Time Job   \n",
       "\n",
       "                                                    freq  \n",
       "Timestamp                                              6  \n",
       "How old are you?                                     955  \n",
       "How long have you been training?                     462  \n",
       "What exercise routine are you currently following?   872  \n",
       "Which of these if any do you wish to compete in...   170  \n",
       "How much do you weigh?                               562  \n",
       "How tall are you?                                    525  \n",
       "What is your Body Fat%? (just guess you fucker)      424  \n",
       "Are you natty?                                      1886  \n",
       "How much can you bench (1RM)?                        480  \n",
       "How much can you squat(1RM)?                         454  \n",
       "How much can you deadlift(1RM)?                      505  \n",
       "How fast can you run a mile?                         759  \n",
       "Bulking or Cutting?                                  882  \n",
       "Lifting for____?                                     180  \n",
       "What drugs if any do you take?                       883  \n",
       "How often do you play video games?                   395  \n",
       "How often do you browse /fit/ a day?                1018  \n",
       "Favorite Music Genre?                                525  \n",
       "What general region of the world do you live in?     214  \n",
       "What best describes your political views             504  \n",
       "How often do you masturbate?                         817  \n",
       "What is your sexuality?                             1897  \n",
       "What group needs to leave /fit/ forever              497  \n",
       "Are you a virgin?                                   1290  \n",
       "Are you in a relationship currently?                1392  \n",
       "Best Type of Thread on /fit/                         504  \n",
       "Are you happy with where you are in your fitnes...  1253  \n",
       "r u a grill                                         1976  \n",
       "Highest education level you have?                    788  \n",
       "What are your eating habits like?                    877  \n",
       "How big is ur pee pee                                518  \n",
       "What race are you?                                  1579  \n",
       "How many ACTUAL friends do you have(you must ha...   632  \n",
       "How much can you The Pressª(1RM)?                    482  \n",
       "Is Rebeka Koha cute?                                1387  \n",
       "What type of employment are you currently engag...   677  "
      ]
     },
     "execution_count": 10,
     "metadata": {},
     "output_type": "execute_result"
    }
   ],
   "source": [
    "df.describe().transpose()"
   ]
  },
  {
   "cell_type": "code",
   "execution_count": 16,
   "metadata": {},
   "outputs": [
    {
     "data": {
      "text/plain": [
       "Index(['Timestamp', 'How old are you?', 'How long have you been training?',\n",
       "       'What exercise routine are you currently following?',\n",
       "       'Which of these if any do you wish to compete in at some point in your lifting career?',\n",
       "       'How much do you weigh?', 'How tall are you?',\n",
       "       'What is your Body Fat%? (just guess you fucker)', 'Are you natty?',\n",
       "       'How much can you bench (1RM)?', 'How much can you squat(1RM)?',\n",
       "       'How much can you deadlift(1RM)?', 'How fast can you run a mile?',\n",
       "       'Bulking or Cutting?', 'Lifting for____?',\n",
       "       'What drugs if any do you take?', 'How often do you play video games?',\n",
       "       'How often do you browse /fit/ a day?', 'Favorite Music Genre?',\n",
       "       'What general region of the world do you live in?',\n",
       "       'What best describes your political views',\n",
       "       'How often do you masturbate?', 'What is your sexuality?',\n",
       "       'What group needs to leave /fit/ forever', 'Are you a virgin?',\n",
       "       'Are you in a relationship currently?', 'Best Type of Thread on /fit/',\n",
       "       'Are you happy with where you are in your fitness career?',\n",
       "       'r u a grill ', 'Highest education level you have?',\n",
       "       'What are your eating habits like?', 'How big is ur pee pee',\n",
       "       'What race are you?',\n",
       "       'How many ACTUAL friends do you have(you must hang out with these people regularly)',\n",
       "       'How much can you The Pressª(1RM)?', 'Is Rebeka Koha cute?',\n",
       "       'What type of employment are you currently engaged in?'],\n",
       "      dtype='object')"
      ]
     },
     "execution_count": 16,
     "metadata": {},
     "output_type": "execute_result"
    }
   ],
   "source": [
    "df.columns"
   ]
  },
  {
   "cell_type": "code",
   "execution_count": 17,
   "metadata": {},
   "outputs": [],
   "source": [
    "df = df[['How old are you?','How long have you been training?','What exercise routine are you currently following?',\n",
    "        'How much do you weigh?','How tall are you?','What is your Body Fat%? (just guess you fucker)',\n",
    "        'How much can you bench (1RM)?','How much can you squat(1RM)?','How much can you deadlift(1RM)?',\n",
    "        'How fast can you run a mile?','What is your sexuality?','What are your eating habits like?',\n",
    "        'How much can you The Pressª(1RM)?','What race are you?']]"
   ]
  },
  {
   "cell_type": "code",
   "execution_count": 88,
   "metadata": {},
   "outputs": [
    {
     "data": {
      "text/plain": [
       "Index(['How much can you squat(1RM)?', 'How much can you deadlift(1RM)?',\n",
       "       'How fast can you run a mile?', 'What is your sexuality?',\n",
       "       'What are your eating habits like?', 'What race are you?', 'age',\n",
       "       'training_time_inYears', 'weights_inLBs', 'bodyFat_in%',\n",
       "       'benchpress_max', 'heights_meters'],\n",
       "      dtype='object')"
      ]
     },
     "execution_count": 88,
     "metadata": {},
     "output_type": "execute_result"
    }
   ],
   "source": [
    "df.columns"
   ]
  },
  {
   "cell_type": "code",
   "execution_count": 106,
   "metadata": {
    "scrolled": false
   },
   "outputs": [
    {
     "data": {
      "text/plain": [
       ">Cardio      759\n",
       "8-7mins      302\n",
       "7-6mins      290\n",
       "10-8mins     259\n",
       "6-5mins      167\n",
       "15-10mins    137\n",
       "5-4 mins      57\n",
       ">15mins       47\n",
       "<4mins        14\n",
       "Name: How fast can you run a mile?, dtype: int64"
      ]
     },
     "execution_count": 106,
     "metadata": {},
     "output_type": "execute_result"
    }
   ],
   "source": [
    "df['How fast can you run a mile?'].value_counts()"
   ]
  },
  {
   "cell_type": "code",
   "execution_count": 107,
   "metadata": {},
   "outputs": [],
   "source": [
    "def running(x):\n",
    "    if (x == '8-7mins'):\n",
    "        return 7.5\n",
    "    elif (x == '7-6mins'):\n",
    "        return 6.5\n",
    "    elif (x == '10-8mins'):\n",
    "        return 9\n",
    "    elif (x == '6-5mins'):\n",
    "        return 5.5\n",
    "    elif (x == '15-10mins'):\n",
    "        return (15+10)/2\n",
    "    elif (x == '5-4 mins'):\n",
    "        return 4.5\n",
    "    elif (x == '>15mins'):\n",
    "        return 15\n",
    "    elif (x == '<4mins'):\n",
    "        return 4\n",
    "    else:\n",
    "        return 0"
   ]
  },
  {
   "cell_type": "code",
   "execution_count": 101,
   "metadata": {},
   "outputs": [],
   "source": [
    "dummy_habit = pd.get_dummies(df['What are your eating habits like?'])"
   ]
  },
  {
   "cell_type": "code",
   "execution_count": 95,
   "metadata": {},
   "outputs": [],
   "source": [
    "def deadlift(x):\n",
    "    if (x == '(100kg/220lbs)-(140kg/308lbs)'):\n",
    "        return (220+308)/2\n",
    "    elif (x == '(140kg/308lbs)-(180kg/396lbs)'):\n",
    "        return (308+396)/2\n",
    "    elif (x == '(180kg/396lbs)-(220kg/485lbs)'):\n",
    "        return (396+485)/2\n",
    "    elif (x == '(60kg/132lbs)-(100kg/220lbs)'):\n",
    "        return (132+220)/2\n",
    "    elif (x == 'unironically less than 60kg/132lbs'):\n",
    "        return 132\n",
    "    elif (x == '(220kg/485lbs)-(260kg/573lbs)'):\n",
    "        return (485+573)/2\n",
    "    elif (x == '260kg/573lbs+'):\n",
    "        return 573\n",
    "    else:\n",
    "        return 600"
   ]
  },
  {
   "cell_type": "code",
   "execution_count": 91,
   "metadata": {},
   "outputs": [],
   "source": [
    "def squat(x):\n",
    "    if (x == '(60kg/132lbs)-(100kg/220lbs)'):\n",
    "        return (132+220)/2\n",
    "    elif (x == '(100kg/220lbs)-(120kg/264lbs)'):\n",
    "        return (220+264)/2\n",
    "    elif (x == '(120kg/264lbs)-(140kg/308lbs)'):\n",
    "        return (264+308)/2\n",
    "    elif (x == '(140kg/308lbs)-(160kg/352lbs)'):\n",
    "        return (308+352)/2\n",
    "    elif (x == 'Less Than 60kg/132lbs'):\n",
    "        return 132\n",
    "    elif (x == '(160kg/352lbs)-(180kg/396lbs)'):\n",
    "        return (352+396)/2\n",
    "    elif (x == '(180kg/396lbs)-(200kg/440lbs)'):\n",
    "        return (396+440)/2\n",
    "    elif (x == '(200kg/440lbs)-(220kg/485lbs)'):\n",
    "        return (440+485)/2\n",
    "    elif (x == '220kg/485lbs+'):\n",
    "        return 485\n",
    "    else:\n",
    "        return 500"
   ]
  },
  {
   "cell_type": "code",
   "execution_count": 76,
   "metadata": {},
   "outputs": [],
   "source": [
    "def heights(x):\n",
    "    if (x == \"1.83-1.85m(6'0-6'1)\"):\n",
    "        return 1.84\n",
    "    elif (x == \"1.78-1.80m(5'10-5'11)\"):\n",
    "        return 1.79\n",
    "    elif (x == \"1.72-1.75m(5'8-5'9)\"):\n",
    "        return 1.735\n",
    "    elif (x == \"1.88-1.91m(6'2-6'3)\"):\n",
    "        return 1.89\n",
    "    elif (x == \"1.67-1.70m(5'6-5'7)\"):\n",
    "        return 1.685\n",
    "    elif (x == \"1.91m+(6'3+)\"):\n",
    "        return 1.91\n",
    "    elif (x == \"1.52-1.65m(5'0-5'5)\"):\n",
    "        return (1.52+1.65)/2\n",
    "    else:\n",
    "        return 1.52"
   ]
  },
  {
   "cell_type": "code",
   "execution_count": 70,
   "metadata": {},
   "outputs": [],
   "source": [
    "def bench(x):\n",
    "    if (x == '(60kg/132lbs)-(80kg/176lbs)'):\n",
    "        return (132+176)/2\n",
    "    elif (x == '(80kg/176lbs)-(100kg/220lbs)'):\n",
    "        return (176+220)/2\n",
    "    elif (x == '(100kg/220lbs)-(120kg/264lbs)'):\n",
    "        return (220+264)/2\n",
    "    elif (x == 'Less than 60kg/132lbs'):\n",
    "        return 132\n",
    "    elif (x == '(120kg/264lbs)-(140kg/308lbs)'):\n",
    "        return (264+308)/2\n",
    "    elif (x == '(140kg/308lbs)-(160kg/352lbs)'):\n",
    "        return (352+308)/2\n",
    "    elif (x == '160kg/352lbs+'):\n",
    "        return 352\n",
    "    else:\n",
    "        return 0"
   ]
  },
  {
   "cell_type": "code",
   "execution_count": 63,
   "metadata": {},
   "outputs": [],
   "source": [
    "def fats(x):\n",
    "    if (x == '15-16%'):\n",
    "        return 15.5\n",
    "    elif (x == '17-18%'):\n",
    "        return 17.5\n",
    "    elif (x == '13-14%'):\n",
    "        return 13.5\n",
    "    elif (x == '19-20%'):\n",
    "        return 19.5\n",
    "    elif (x == '11-12%'):\n",
    "        return 11.5\n",
    "    elif (x == '21-22%'):\n",
    "        return 21.5\n",
    "    elif (x == '23-24%'):\n",
    "        return 23.5\n",
    "    elif (x == '25-26%'):\n",
    "        return 25.5\n",
    "    elif (x == '27+%'):\n",
    "        return 27\n",
    "    else:\n",
    "        return 10"
   ]
  },
  {
   "cell_type": "code",
   "execution_count": 57,
   "metadata": {},
   "outputs": [],
   "source": [
    "def weights(x):\n",
    "    if (x == '74-83kg(163-183lbs)'):\n",
    "        return (163+183)/2\n",
    "    elif (x == '83-93kg(183-205lbs)'):\n",
    "        return (183+205)/2\n",
    "    elif (x == '66-74kg(145-163lbs)'):\n",
    "        return (145+163)/2\n",
    "    elif (x == '93-105kg(205-231lbs)'):\n",
    "        return (205+231)/2\n",
    "    elif (x == '56-66kg(130-145lbs)'):\n",
    "        return (130+145)/2\n",
    "    elif (x == '<59kg(<130lbs)'):\n",
    "        return 125\n",
    "    elif (x == '105-120kg(231-265lbs)'):\n",
    "        return (231+265)/2\n",
    "    else:\n",
    "        return 265"
   ]
  },
  {
   "cell_type": "code",
   "execution_count": 26,
   "metadata": {},
   "outputs": [],
   "source": [
    "def age(x):\n",
    "    if (x == '18-22 years old'):\n",
    "        return (18+22)/2\n",
    "    elif (x == '22-26 years old'):\n",
    "        return (22+26)/2\n",
    "    elif (x == '26-30 years old'):\n",
    "        return (26+30)/2\n",
    "    elif (x == '<18 years old'):\n",
    "        return 14\n",
    "    else:\n",
    "        return 30"
   ]
  },
  {
   "cell_type": "code",
   "execution_count": 36,
   "metadata": {},
   "outputs": [],
   "source": [
    "def time(x):\n",
    "    if (x == '1-2 Years'):\n",
    "        return 1.5\n",
    "    elif (x == '1-6 Months'):\n",
    "        return 0.58\n",
    "    elif (x == '6-12 Months'):\n",
    "        return 0.75\n",
    "    elif (x == '2-3 Years'):\n",
    "        return 2.5\n",
    "    elif (x == '4+ years'):\n",
    "        return 5\n",
    "    elif (x == '3-4 years'):\n",
    "        return 3.5\n",
    "    elif (x == '<1 month'):\n",
    "        return 0.08\n",
    "    else:\n",
    "        return 0"
   ]
  },
  {
   "cell_type": "code",
   "execution_count": 27,
   "metadata": {},
   "outputs": [],
   "source": [
    "dummy = df.copy()"
   ]
  },
  {
   "cell_type": "code",
   "execution_count": 39,
   "metadata": {},
   "outputs": [],
   "source": [
    "dummy['training_time_inYears'] = dummy.apply(lambda x : time(x['How long have you been training?']), axis =1)"
   ]
  },
  {
   "cell_type": "code",
   "execution_count": 43,
   "metadata": {},
   "outputs": [
    {
     "data": {
      "text/plain": [
       "20.0    955\n",
       "24.0    550\n",
       "28.0    224\n",
       "14.0    188\n",
       "30.0    115\n",
       "Name: age, dtype: int64"
      ]
     },
     "execution_count": 43,
     "metadata": {},
     "output_type": "execute_result"
    }
   ],
   "source": [
    "dummy['age'].value_counts()"
   ]
  },
  {
   "cell_type": "code",
   "execution_count": 44,
   "metadata": {},
   "outputs": [
    {
     "data": {
      "text/plain": [
       "1.50    462\n",
       "0.58    411\n",
       "0.75    326\n",
       "2.50    289\n",
       "5.00    221\n",
       "3.50    162\n",
       "0.00     82\n",
       "0.08     79\n",
       "Name: training_time_inYears, dtype: int64"
      ]
     },
     "execution_count": 44,
     "metadata": {},
     "output_type": "execute_result"
    }
   ],
   "source": [
    "dummy['training_time_inYears'].value_counts()"
   ]
  },
  {
   "cell_type": "code",
   "execution_count": 46,
   "metadata": {},
   "outputs": [],
   "source": [
    "dummy = dummy.drop('What exercise routine are you currently following?', axis=1)"
   ]
  },
  {
   "cell_type": "code",
   "execution_count": 47,
   "metadata": {},
   "outputs": [],
   "source": [
    "df = dummy.copy()"
   ]
  },
  {
   "cell_type": "code",
   "execution_count": 58,
   "metadata": {},
   "outputs": [],
   "source": [
    "dummy['weights_inLBs'] = dummy.apply(lambda x : weights(x['How much do you weigh?']), axis =1)"
   ]
  },
  {
   "cell_type": "code",
   "execution_count": 59,
   "metadata": {},
   "outputs": [
    {
     "data": {
      "text/plain": [
       "173.0    562\n",
       "194.0    467\n",
       "154.0    413\n",
       "218.0    259\n",
       "137.5    164\n",
       "248.0     81\n",
       "125.0     45\n",
       "265.0     41\n",
       "Name: weights_inLBs, dtype: int64"
      ]
     },
     "execution_count": 59,
     "metadata": {},
     "output_type": "execute_result"
    }
   ],
   "source": [
    "dummy['weights_inLBs'].value_counts()"
   ]
  },
  {
   "cell_type": "code",
   "execution_count": 60,
   "metadata": {},
   "outputs": [
    {
     "data": {
      "text/plain": [
       "74-83kg(163-183lbs)                562\n",
       "83-93kg(183-205lbs)                467\n",
       "66-74kg(145-163lbs)                413\n",
       "93-105kg(205-231lbs)               259\n",
       "56-66kg(130-145lbs)                164\n",
       "105-120kg(231-265lbs)               81\n",
       "<59kg(<130lbs)                      45\n",
       ">120kg(>265lbs) Big Niggas Only     41\n",
       "Name: How much do you weigh?, dtype: int64"
      ]
     },
     "execution_count": 60,
     "metadata": {},
     "output_type": "execute_result"
    }
   ],
   "source": [
    "df['How much do you weigh?'].value_counts()"
   ]
  },
  {
   "cell_type": "code",
   "execution_count": 64,
   "metadata": {},
   "outputs": [],
   "source": [
    "dummy['bodyFat_in%'] = dummy.apply(lambda x : fats(x['What is your Body Fat%? (just guess you fucker)']), axis =1)"
   ]
  },
  {
   "cell_type": "code",
   "execution_count": 66,
   "metadata": {},
   "outputs": [
    {
     "data": {
      "text/plain": [
       "15.5    424\n",
       "17.5    358\n",
       "13.5    358\n",
       "19.5    249\n",
       "11.5    175\n",
       "21.5    131\n",
       "23.5     93\n",
       "10.0     88\n",
       "27.0     87\n",
       "25.5     69\n",
       "Name: bodyFat_in%, dtype: int64"
      ]
     },
     "execution_count": 66,
     "metadata": {},
     "output_type": "execute_result"
    }
   ],
   "source": [
    "dummy['bodyFat_in%'].value_counts()"
   ]
  },
  {
   "cell_type": "code",
   "execution_count": 68,
   "metadata": {},
   "outputs": [],
   "source": [
    "df = dummy.copy()"
   ]
  },
  {
   "cell_type": "code",
   "execution_count": 71,
   "metadata": {},
   "outputs": [],
   "source": [
    "dummy['benchpress_max'] = dummy.apply(lambda x : bench(x['How much can you bench (1RM)?']), axis =1)"
   ]
  },
  {
   "cell_type": "code",
   "execution_count": 72,
   "metadata": {},
   "outputs": [
    {
     "data": {
      "text/plain": [
       "154.0    480\n",
       "198.0    479\n",
       "242.0    361\n",
       "0.0      245\n",
       "132.0    243\n",
       "286.0    146\n",
       "330.0     57\n",
       "352.0     21\n",
       "Name: benchpress_max, dtype: int64"
      ]
     },
     "execution_count": 72,
     "metadata": {},
     "output_type": "execute_result"
    }
   ],
   "source": [
    "dummy['benchpress_max'].value_counts()"
   ]
  },
  {
   "cell_type": "code",
   "execution_count": 77,
   "metadata": {},
   "outputs": [],
   "source": [
    "dummy['heights_meters'] = dummy.apply(lambda x : heights(x['How tall are you?']), axis =1)"
   ]
  },
  {
   "cell_type": "code",
   "execution_count": 78,
   "metadata": {},
   "outputs": [
    {
     "data": {
      "text/plain": [
       "1.840    525\n",
       "1.790    522\n",
       "1.735    375\n",
       "1.890    246\n",
       "1.685    161\n",
       "1.910    138\n",
       "1.585     55\n",
       "1.520     10\n",
       "Name: heights_meters, dtype: int64"
      ]
     },
     "execution_count": 78,
     "metadata": {},
     "output_type": "execute_result"
    }
   ],
   "source": [
    "dummy['heights_meters'].value_counts()"
   ]
  },
  {
   "cell_type": "code",
   "execution_count": 81,
   "metadata": {},
   "outputs": [
    {
     "data": {
      "text/plain": [
       "Index(['How old are you?', 'How long have you been training?',\n",
       "       'How much do you weigh?', 'How tall are you?',\n",
       "       'What is your Body Fat%? (just guess you fucker)',\n",
       "       'How much can you bench (1RM)?', 'How much can you squat(1RM)?',\n",
       "       'How much can you deadlift(1RM)?', 'How fast can you run a mile?',\n",
       "       'What is your sexuality?', 'What are your eating habits like?',\n",
       "       'How much can you The Pressª(1RM)?', 'What race are you?', 'age',\n",
       "       'training_time_inYears', 'weights_inLBs', 'bodyFat_in%',\n",
       "       'benchpress_max', 'heights_meters'],\n",
       "      dtype='object')"
      ]
     },
     "execution_count": 81,
     "metadata": {},
     "output_type": "execute_result"
    }
   ],
   "source": [
    "df.columns"
   ]
  },
  {
   "cell_type": "code",
   "execution_count": 112,
   "metadata": {},
   "outputs": [],
   "source": [
    "df = df.drop(['How old are you?', 'How long have you been training?',\n",
    "       'How much do you weigh?', 'How tall are you?',\n",
    "       'What is your Body Fat%? (just guess you fucker)',\n",
    "       'How much can you bench (1RM)?','How much can you The Pressª(1RM)?','How much can you squat(1RM)?',\n",
    "        'How much can you deadlift(1RM)?','How fast can you run a mile?','What is your sexuality?'], axis=1)"
   ]
  },
  {
   "cell_type": "code",
   "execution_count": 92,
   "metadata": {},
   "outputs": [],
   "source": [
    "dummy['maxsquat_LBs'] = dummy.apply(lambda x : squat(x['How much can you squat(1RM)?']), axis =1)"
   ]
  },
  {
   "cell_type": "code",
   "execution_count": 93,
   "metadata": {},
   "outputs": [
    {
     "data": {
      "text/plain": [
       "176.0    454\n",
       "500.0    388\n",
       "242.0    352\n",
       "286.0    285\n",
       "330.0    217\n",
       "132.0    113\n",
       "374.0    110\n",
       "418.0     58\n",
       "485.0     28\n",
       "462.5     27\n",
       "Name: maxsquat_LBs, dtype: int64"
      ]
     },
     "execution_count": 93,
     "metadata": {},
     "output_type": "execute_result"
    }
   ],
   "source": [
    "dummy['maxsquat_LBs'].value_counts()"
   ]
  },
  {
   "cell_type": "code",
   "execution_count": 96,
   "metadata": {},
   "outputs": [],
   "source": [
    "dummy['maxsquat_LBs'] = dummy.apply(lambda x : deadlift(x['How much can you deadlift(1RM)?']), axis =1)"
   ]
  },
  {
   "cell_type": "code",
   "execution_count": 97,
   "metadata": {
    "scrolled": true
   },
   "outputs": [
    {
     "data": {
      "text/plain": [
       "264.0    505\n",
       "600.0    448\n",
       "352.0    428\n",
       "440.5    252\n",
       "176.0    243\n",
       "529.0     66\n",
       "132.0     66\n",
       "573.0     24\n",
       "Name: maxsquat_LBs, dtype: int64"
      ]
     },
     "execution_count": 97,
     "metadata": {},
     "output_type": "execute_result"
    }
   ],
   "source": [
    "dummy['maxsquat_LBs'].value_counts()"
   ]
  },
  {
   "cell_type": "code",
   "execution_count": 108,
   "metadata": {},
   "outputs": [],
   "source": [
    "dummy['1mile_run_inMins'] = dummy.apply(lambda x : running(x['How fast can you run a mile?']), axis =1)"
   ]
  },
  {
   "cell_type": "code",
   "execution_count": 109,
   "metadata": {},
   "outputs": [
    {
     "data": {
      "text/plain": [
       "0.0     759\n",
       "7.5     302\n",
       "6.5     290\n",
       "9.0     259\n",
       "5.5     167\n",
       "12.5    137\n",
       "4.5      57\n",
       "15.0     47\n",
       "4.0      14\n",
       "Name: 1mile_run_inMins, dtype: int64"
      ]
     },
     "execution_count": 109,
     "metadata": {},
     "output_type": "execute_result"
    }
   ],
   "source": [
    "dummy['1mile_run_inMins'].value_counts()"
   ]
  },
  {
   "cell_type": "code",
   "execution_count": 111,
   "metadata": {},
   "outputs": [],
   "source": [
    "df = dummy.copy()"
   ]
  },
  {
   "cell_type": "code",
   "execution_count": 104,
   "metadata": {},
   "outputs": [],
   "source": [
    "dummy = pd.concat([dummy,dummy_habit], axis = 1)"
   ]
  },
  {
   "cell_type": "code",
   "execution_count": 119,
   "metadata": {},
   "outputs": [
    {
     "data": {
      "text/html": [
       "<div>\n",
       "<style scoped>\n",
       "    .dataframe tbody tr th:only-of-type {\n",
       "        vertical-align: middle;\n",
       "    }\n",
       "\n",
       "    .dataframe tbody tr th {\n",
       "        vertical-align: top;\n",
       "    }\n",
       "\n",
       "    .dataframe thead th {\n",
       "        text-align: right;\n",
       "    }\n",
       "</style>\n",
       "<table border=\"1\" class=\"dataframe\">\n",
       "  <thead>\n",
       "    <tr style=\"text-align: right;\">\n",
       "      <th></th>\n",
       "      <th>What are your eating habits like?</th>\n",
       "      <th>What race are you?</th>\n",
       "      <th>age</th>\n",
       "      <th>training_time_inYears</th>\n",
       "      <th>weights_inLBs</th>\n",
       "      <th>bodyFat_in%</th>\n",
       "      <th>benchpress_max</th>\n",
       "      <th>heights_meters</th>\n",
       "      <th>maxsquat_LBs</th>\n",
       "      <th>Clean Eating</th>\n",
       "      <th>IIFYM</th>\n",
       "      <th>Non-regimented Diet</th>\n",
       "      <th>Other Meme shit</th>\n",
       "      <th>1mile_run_inMins</th>\n",
       "    </tr>\n",
       "  </thead>\n",
       "  <tbody>\n",
       "    <tr>\n",
       "      <th>0</th>\n",
       "      <td>Non-regimented Diet</td>\n",
       "      <td>White</td>\n",
       "      <td>24.0</td>\n",
       "      <td>1.50</td>\n",
       "      <td>154.0</td>\n",
       "      <td>15.5</td>\n",
       "      <td>198.0</td>\n",
       "      <td>1.685</td>\n",
       "      <td>352.0</td>\n",
       "      <td>0</td>\n",
       "      <td>0</td>\n",
       "      <td>1</td>\n",
       "      <td>0</td>\n",
       "      <td>0.0</td>\n",
       "    </tr>\n",
       "    <tr>\n",
       "      <th>1</th>\n",
       "      <td>Other Meme shit</td>\n",
       "      <td>White</td>\n",
       "      <td>28.0</td>\n",
       "      <td>3.50</td>\n",
       "      <td>218.0</td>\n",
       "      <td>19.5</td>\n",
       "      <td>154.0</td>\n",
       "      <td>1.840</td>\n",
       "      <td>440.5</td>\n",
       "      <td>0</td>\n",
       "      <td>0</td>\n",
       "      <td>0</td>\n",
       "      <td>1</td>\n",
       "      <td>7.5</td>\n",
       "    </tr>\n",
       "    <tr>\n",
       "      <th>2</th>\n",
       "      <td>Non-regimented Diet</td>\n",
       "      <td>White</td>\n",
       "      <td>24.0</td>\n",
       "      <td>0.75</td>\n",
       "      <td>154.0</td>\n",
       "      <td>10.0</td>\n",
       "      <td>132.0</td>\n",
       "      <td>1.790</td>\n",
       "      <td>132.0</td>\n",
       "      <td>0</td>\n",
       "      <td>0</td>\n",
       "      <td>1</td>\n",
       "      <td>0</td>\n",
       "      <td>7.5</td>\n",
       "    </tr>\n",
       "    <tr>\n",
       "      <th>3</th>\n",
       "      <td>Clean Eating</td>\n",
       "      <td>White</td>\n",
       "      <td>24.0</td>\n",
       "      <td>3.50</td>\n",
       "      <td>194.0</td>\n",
       "      <td>13.5</td>\n",
       "      <td>286.0</td>\n",
       "      <td>1.790</td>\n",
       "      <td>529.0</td>\n",
       "      <td>1</td>\n",
       "      <td>0</td>\n",
       "      <td>0</td>\n",
       "      <td>0</td>\n",
       "      <td>5.5</td>\n",
       "    </tr>\n",
       "    <tr>\n",
       "      <th>4</th>\n",
       "      <td>Other Meme shit</td>\n",
       "      <td>White</td>\n",
       "      <td>24.0</td>\n",
       "      <td>0.58</td>\n",
       "      <td>173.0</td>\n",
       "      <td>13.5</td>\n",
       "      <td>132.0</td>\n",
       "      <td>1.890</td>\n",
       "      <td>132.0</td>\n",
       "      <td>0</td>\n",
       "      <td>0</td>\n",
       "      <td>0</td>\n",
       "      <td>1</td>\n",
       "      <td>4.5</td>\n",
       "    </tr>\n",
       "  </tbody>\n",
       "</table>\n",
       "</div>"
      ],
      "text/plain": [
       "  What are your eating habits like? What race are you?   age  \\\n",
       "0               Non-regimented Diet              White  24.0   \n",
       "1                   Other Meme shit              White  28.0   \n",
       "2               Non-regimented Diet              White  24.0   \n",
       "3                      Clean Eating              White  24.0   \n",
       "4                   Other Meme shit              White  24.0   \n",
       "\n",
       "   training_time_inYears  weights_inLBs  bodyFat_in%  benchpress_max  \\\n",
       "0                   1.50          154.0         15.5           198.0   \n",
       "1                   3.50          218.0         19.5           154.0   \n",
       "2                   0.75          154.0         10.0           132.0   \n",
       "3                   3.50          194.0         13.5           286.0   \n",
       "4                   0.58          173.0         13.5           132.0   \n",
       "\n",
       "   heights_meters  maxsquat_LBs  Clean Eating  IIFYM  Non-regimented Diet  \\\n",
       "0           1.685         352.0             0      0                    1   \n",
       "1           1.840         440.5             0      0                    0   \n",
       "2           1.790         132.0             0      0                    1   \n",
       "3           1.790         529.0             1      0                    0   \n",
       "4           1.890         132.0             0      0                    0   \n",
       "\n",
       "   Other Meme shit  1mile_run_inMins  \n",
       "0                0               0.0  \n",
       "1                1               7.5  \n",
       "2                0               7.5  \n",
       "3                0               5.5  \n",
       "4                1               4.5  "
      ]
     },
     "execution_count": 119,
     "metadata": {},
     "output_type": "execute_result"
    }
   ],
   "source": [
    "df.head()"
   ]
  },
  {
   "cell_type": "code",
   "execution_count": 121,
   "metadata": {},
   "outputs": [],
   "source": [
    "dummy = df.copy()"
   ]
  },
  {
   "cell_type": "code",
   "execution_count": 116,
   "metadata": {},
   "outputs": [
    {
     "data": {
      "text/plain": [
       "Heterosexual         1897\n",
       "Mentally Diseased     135\n",
       "Name: What is your sexuality?, dtype: int64"
      ]
     },
     "execution_count": 116,
     "metadata": {},
     "output_type": "execute_result"
    }
   ],
   "source": [
    "dummy['What is your sexuality?'].value_counts()"
   ]
  },
  {
   "cell_type": "code",
   "execution_count": 123,
   "metadata": {},
   "outputs": [],
   "source": [
    "race_dummy = pd.get_dummies(df['What race are you?'])"
   ]
  },
  {
   "cell_type": "code",
   "execution_count": 125,
   "metadata": {},
   "outputs": [],
   "source": [
    "df = pd.concat([race_dummy,df], axis = 1)"
   ]
  },
  {
   "cell_type": "code",
   "execution_count": 130,
   "metadata": {},
   "outputs": [],
   "source": [
    "diet_dummy = pd.get_dummies(df['What are your eating habits like?'], drop_first=True)"
   ]
  },
  {
   "cell_type": "code",
   "execution_count": 132,
   "metadata": {},
   "outputs": [],
   "source": [
    "df = pd.concat([diet_dummy,df], axis = 1)"
   ]
  },
  {
   "cell_type": "code",
   "execution_count": 136,
   "metadata": {},
   "outputs": [],
   "source": [
    "df = df.drop(['What are your eating habits like?','What race are you?'], axis=1)"
   ]
  },
  {
   "cell_type": "code",
   "execution_count": 138,
   "metadata": {},
   "outputs": [],
   "source": [
    "dummy = df.copy()"
   ]
  },
  {
   "cell_type": "code",
   "execution_count": 215,
   "metadata": {},
   "outputs": [],
   "source": [
    "from tensorflow.keras.models import Sequential\n",
    "from tensorflow.keras.layers import Dense, Dropout\n",
    "from tensorflow.keras.wrappers.scikit_learn import KerasClassifier\n",
    "from sklearn.model_selection import cross_val_score"
   ]
  },
  {
   "cell_type": "code",
   "execution_count": 212,
   "metadata": {},
   "outputs": [],
   "source": [
    "def model_base():\n",
    "    model = Sequential()\n",
    "\n",
    "    model.add(Dense(15, activation = 'relu'))\n",
    "    model.add(Dropout(0.5))\n",
    "    model.add(Dense(15, activation = 'relu'))\n",
    "    model.add(Dropout(0.5))\n",
    "    model.add(Dense(15, activation = 'relu'))\n",
    "    model.add(Dropout(0.5))\n",
    "\n",
    "    model.add(Dense(8, activation = 'softmax'))\n",
    "\n",
    "    model.compile(loss='categorical_crossentropy',optimizer='adam',metrics=['accuracy'])\n",
    "    \n",
    "    return model"
   ]
  },
  {
   "cell_type": "code",
   "execution_count": 216,
   "metadata": {},
   "outputs": [],
   "source": [
    "estimator = KerasClassifier(build_fn=model_base, epochs=200, batch_size=5, verbose=0)"
   ]
  },
  {
   "cell_type": "code",
   "execution_count": 217,
   "metadata": {},
   "outputs": [
    {
     "name": "stdout",
     "output_type": "stream",
     "text": [
      "WARNING:tensorflow:Layer dense_32 is casting an input tensor from dtype float64 to the layer's dtype of float32, which is new behavior in TensorFlow 2.  The layer has dtype float32 because it's dtype defaults to floatx.\n",
      "\n",
      "If you intended to run this layer in float32, you can safely ignore this warning. If in doubt, this warning is likely only an issue if you are porting a TensorFlow 1.X model to TensorFlow 2.\n",
      "\n",
      "To change all layers to have dtype float64 by default, call `tf.keras.backend.set_floatx('float64')`. To change just this layer, pass dtype='float64' to the layer constructor. If you are the author of this layer, you can disable autocasting by passing autocast=False to the base Layer constructor.\n",
      "\n",
      "WARNING:tensorflow:Layer dense_36 is casting an input tensor from dtype float64 to the layer's dtype of float32, which is new behavior in TensorFlow 2.  The layer has dtype float32 because it's dtype defaults to floatx.\n",
      "\n",
      "If you intended to run this layer in float32, you can safely ignore this warning. If in doubt, this warning is likely only an issue if you are porting a TensorFlow 1.X model to TensorFlow 2.\n",
      "\n",
      "To change all layers to have dtype float64 by default, call `tf.keras.backend.set_floatx('float64')`. To change just this layer, pass dtype='float64' to the layer constructor. If you are the author of this layer, you can disable autocasting by passing autocast=False to the base Layer constructor.\n",
      "\n",
      "WARNING:tensorflow:Layer dense_40 is casting an input tensor from dtype float64 to the layer's dtype of float32, which is new behavior in TensorFlow 2.  The layer has dtype float32 because it's dtype defaults to floatx.\n",
      "\n",
      "If you intended to run this layer in float32, you can safely ignore this warning. If in doubt, this warning is likely only an issue if you are porting a TensorFlow 1.X model to TensorFlow 2.\n",
      "\n",
      "To change all layers to have dtype float64 by default, call `tf.keras.backend.set_floatx('float64')`. To change just this layer, pass dtype='float64' to the layer constructor. If you are the author of this layer, you can disable autocasting by passing autocast=False to the base Layer constructor.\n",
      "\n",
      "WARNING:tensorflow:Layer dense_44 is casting an input tensor from dtype float64 to the layer's dtype of float32, which is new behavior in TensorFlow 2.  The layer has dtype float32 because it's dtype defaults to floatx.\n",
      "\n",
      "If you intended to run this layer in float32, you can safely ignore this warning. If in doubt, this warning is likely only an issue if you are porting a TensorFlow 1.X model to TensorFlow 2.\n",
      "\n",
      "To change all layers to have dtype float64 by default, call `tf.keras.backend.set_floatx('float64')`. To change just this layer, pass dtype='float64' to the layer constructor. If you are the author of this layer, you can disable autocasting by passing autocast=False to the base Layer constructor.\n",
      "\n",
      "WARNING:tensorflow:Layer dense_48 is casting an input tensor from dtype float64 to the layer's dtype of float32, which is new behavior in TensorFlow 2.  The layer has dtype float32 because it's dtype defaults to floatx.\n",
      "\n",
      "If you intended to run this layer in float32, you can safely ignore this warning. If in doubt, this warning is likely only an issue if you are porting a TensorFlow 1.X model to TensorFlow 2.\n",
      "\n",
      "To change all layers to have dtype float64 by default, call `tf.keras.backend.set_floatx('float64')`. To change just this layer, pass dtype='float64' to the layer constructor. If you are the author of this layer, you can disable autocasting by passing autocast=False to the base Layer constructor.\n",
      "\n"
     ]
    }
   ],
   "source": [
    "results = cross_val_score(estimator, X, y)"
   ]
  },
  {
   "cell_type": "code",
   "execution_count": 225,
   "metadata": {},
   "outputs": [
    {
     "name": "stdout",
     "output_type": "stream",
     "text": [
      "Accuracy: 77.71% (1.04%)\n"
     ]
    }
   ],
   "source": [
    "print(\"Accuracy: %.2f%% (%.2f%%)\" % (results.mean()*100, results.std()*100))"
   ]
  },
  {
   "cell_type": "code",
   "execution_count": 224,
   "metadata": {},
   "outputs": [
    {
     "data": {
      "text/plain": [
       "0.7770554780960083"
      ]
     },
     "execution_count": 224,
     "metadata": {},
     "output_type": "execute_result"
    }
   ],
   "source": [
    "results.mean()"
   ]
  },
  {
   "cell_type": "code",
   "execution_count": null,
   "metadata": {},
   "outputs": [],
   "source": []
  },
  {
   "cell_type": "code",
   "execution_count": null,
   "metadata": {},
   "outputs": [],
   "source": []
  },
  {
   "cell_type": "code",
   "execution_count": null,
   "metadata": {},
   "outputs": [],
   "source": []
  },
  {
   "cell_type": "code",
   "execution_count": null,
   "metadata": {},
   "outputs": [],
   "source": []
  }
 ],
 "metadata": {
  "kernelspec": {
   "display_name": "Python 3",
   "language": "python",
   "name": "python3"
  },
  "language_info": {
   "codemirror_mode": {
    "name": "ipython",
    "version": 3
   },
   "file_extension": ".py",
   "mimetype": "text/x-python",
   "name": "python",
   "nbconvert_exporter": "python",
   "pygments_lexer": "ipython3",
   "version": "3.8.0"
  }
 },
 "nbformat": 4,
 "nbformat_minor": 2
}
