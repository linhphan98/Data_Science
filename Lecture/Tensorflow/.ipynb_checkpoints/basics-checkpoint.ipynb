{
 "cells": [
  {
   "cell_type": "code",
   "execution_count": 2,
   "metadata": {},
   "outputs": [],
   "source": [
    "import pandas as pd\n",
    "import numpy as np\n",
    "import seaborn as sns"
   ]
  },
  {
   "cell_type": "code",
   "execution_count": 3,
   "metadata": {},
   "outputs": [],
   "source": [
    "df = pd.read_csv('DATA/fake_reg.csv')"
   ]
  },
  {
   "cell_type": "code",
   "execution_count": 4,
   "metadata": {},
   "outputs": [
    {
     "data": {
      "text/html": [
       "<div>\n",
       "<style scoped>\n",
       "    .dataframe tbody tr th:only-of-type {\n",
       "        vertical-align: middle;\n",
       "    }\n",
       "\n",
       "    .dataframe tbody tr th {\n",
       "        vertical-align: top;\n",
       "    }\n",
       "\n",
       "    .dataframe thead th {\n",
       "        text-align: right;\n",
       "    }\n",
       "</style>\n",
       "<table border=\"1\" class=\"dataframe\">\n",
       "  <thead>\n",
       "    <tr style=\"text-align: right;\">\n",
       "      <th></th>\n",
       "      <th>price</th>\n",
       "      <th>feature1</th>\n",
       "      <th>feature2</th>\n",
       "    </tr>\n",
       "  </thead>\n",
       "  <tbody>\n",
       "    <tr>\n",
       "      <th>0</th>\n",
       "      <td>461.527929</td>\n",
       "      <td>999.787558</td>\n",
       "      <td>999.766096</td>\n",
       "    </tr>\n",
       "    <tr>\n",
       "      <th>1</th>\n",
       "      <td>548.130011</td>\n",
       "      <td>998.861615</td>\n",
       "      <td>1001.042403</td>\n",
       "    </tr>\n",
       "    <tr>\n",
       "      <th>2</th>\n",
       "      <td>410.297162</td>\n",
       "      <td>1000.070267</td>\n",
       "      <td>998.844015</td>\n",
       "    </tr>\n",
       "    <tr>\n",
       "      <th>3</th>\n",
       "      <td>540.382220</td>\n",
       "      <td>999.952251</td>\n",
       "      <td>1000.440940</td>\n",
       "    </tr>\n",
       "    <tr>\n",
       "      <th>4</th>\n",
       "      <td>546.024553</td>\n",
       "      <td>1000.446011</td>\n",
       "      <td>1000.338531</td>\n",
       "    </tr>\n",
       "  </tbody>\n",
       "</table>\n",
       "</div>"
      ],
      "text/plain": [
       "        price     feature1     feature2\n",
       "0  461.527929   999.787558   999.766096\n",
       "1  548.130011   998.861615  1001.042403\n",
       "2  410.297162  1000.070267   998.844015\n",
       "3  540.382220   999.952251  1000.440940\n",
       "4  546.024553  1000.446011  1000.338531"
      ]
     },
     "execution_count": 4,
     "metadata": {},
     "output_type": "execute_result"
    }
   ],
   "source": [
    "df.head()"
   ]
  },
  {
   "cell_type": "code",
   "execution_count": 144,
   "metadata": {},
   "outputs": [],
   "source": [
    "from sklearn.model_selection import train_test_split"
   ]
  },
  {
   "cell_type": "code",
   "execution_count": 145,
   "metadata": {},
   "outputs": [],
   "source": [
    "# Tensor flow works with numpy array\n",
    "X = df[['feature1','feature2']].values\n",
    "y = df['price'].values"
   ]
  },
  {
   "cell_type": "code",
   "execution_count": 146,
   "metadata": {},
   "outputs": [],
   "source": [
    "X_train, X_test, y_train, y_test = train_test_split(X, y, test_size=0.3, random_state=42)"
   ]
  },
  {
   "cell_type": "code",
   "execution_count": 147,
   "metadata": {},
   "outputs": [],
   "source": [
    "from sklearn.preprocessing import MinMaxScaler"
   ]
  },
  {
   "cell_type": "code",
   "execution_count": 148,
   "metadata": {},
   "outputs": [],
   "source": [
    "scaler = MinMaxScaler()"
   ]
  },
  {
   "cell_type": "code",
   "execution_count": 149,
   "metadata": {},
   "outputs": [
    {
     "data": {
      "text/plain": [
       "MinMaxScaler(copy=True, feature_range=(0, 1))"
      ]
     },
     "execution_count": 149,
     "metadata": {},
     "output_type": "execute_result"
    }
   ],
   "source": [
    "scaler.fit(X_train)"
   ]
  },
  {
   "cell_type": "code",
   "execution_count": 150,
   "metadata": {},
   "outputs": [],
   "source": [
    "X_train = scaler.transform(X_train)"
   ]
  },
  {
   "cell_type": "code",
   "execution_count": 130,
   "metadata": {},
   "outputs": [
    {
     "data": {
      "text/plain": [
       "700"
      ]
     },
     "execution_count": 130,
     "metadata": {},
     "output_type": "execute_result"
    }
   ],
   "source": [
    "y_train.size"
   ]
  },
  {
   "cell_type": "code",
   "execution_count": 151,
   "metadata": {},
   "outputs": [],
   "source": [
    "X_test = scaler.transform(X_test)"
   ]
  },
  {
   "cell_type": "code",
   "execution_count": 152,
   "metadata": {},
   "outputs": [],
   "source": [
    "from tensorflow.keras.models import Sequential\n",
    "from tensorflow.keras.layers import Dense\n",
    "from tensorflow.keras.layers import Flatten"
   ]
  },
  {
   "cell_type": "code",
   "execution_count": 153,
   "metadata": {},
   "outputs": [],
   "source": [
    "model = Sequential()\n",
    "\n",
    "model.add(Flatten(input_shape = (2,)))\n",
    "model.add(Dense(4,activation='relu'))\n",
    "model.add(Dense(6,activation='relu'))\n",
    "model.add(Dense(2,activation='relu'))\n",
    "\n",
    "model.add(Dense(1))\n",
    "\n",
    "model.compile(optimizer = 'rmsprop', loss='mse')"
   ]
  },
  {
   "cell_type": "code",
   "execution_count": 154,
   "metadata": {},
   "outputs": [
    {
     "name": "stdout",
     "output_type": "stream",
     "text": [
      "Epoch 1/250\n",
      "700/700 [==============================] - 1s 776us/step - loss: 256859.1006\n",
      "Epoch 2/250\n",
      "700/700 [==============================] - 0s 58us/step - loss: 256702.4034\n",
      "Epoch 3/250\n",
      "700/700 [==============================] - 0s 57us/step - loss: 256590.2466\n",
      "Epoch 4/250\n",
      "700/700 [==============================] - 0s 57us/step - loss: 256495.0398\n",
      "Epoch 5/250\n",
      "700/700 [==============================] - 0s 81us/step - loss: 256384.7569\n",
      "Epoch 6/250\n",
      "700/700 [==============================] - 0s 53us/step - loss: 256258.7363\n",
      "Epoch 7/250\n",
      "700/700 [==============================] - 0s 55us/step - loss: 256113.8232\n",
      "Epoch 8/250\n",
      "700/700 [==============================] - 0s 57us/step - loss: 255948.4148\n",
      "Epoch 9/250\n",
      "700/700 [==============================] - 0s 58us/step - loss: 255761.0476\n",
      "Epoch 10/250\n",
      "700/700 [==============================] - 0s 85us/step - loss: 255551.2585\n",
      "Epoch 11/250\n",
      "700/700 [==============================] - 0s 62us/step - loss: 255318.5668\n",
      "Epoch 12/250\n",
      "700/700 [==============================] - 0s 60us/step - loss: 255058.1485\n",
      "Epoch 13/250\n",
      "700/700 [==============================] - 0s 58us/step - loss: 254771.8442\n",
      "Epoch 14/250\n",
      "700/700 [==============================] - 0s 58us/step - loss: 254454.0136\n",
      "Epoch 15/250\n",
      "700/700 [==============================] - 0s 65us/step - loss: 254106.0633\n",
      "Epoch 16/250\n",
      "700/700 [==============================] - 0s 59us/step - loss: 253722.8896\n",
      "Epoch 17/250\n",
      "700/700 [==============================] - 0s 58us/step - loss: 253304.6950\n",
      "Epoch 18/250\n",
      "700/700 [==============================] - 0s 53us/step - loss: 252847.7921\n",
      "Epoch 19/250\n",
      "700/700 [==============================] - 0s 68us/step - loss: 252342.2615\n",
      "Epoch 20/250\n",
      "700/700 [==============================] - 0s 66us/step - loss: 251786.0960\n",
      "Epoch 21/250\n",
      "700/700 [==============================] - 0s 68us/step - loss: 251182.2410\n",
      "Epoch 22/250\n",
      "700/700 [==============================] - 0s 57us/step - loss: 250520.8408\n",
      "Epoch 23/250\n",
      "700/700 [==============================] - 0s 70us/step - loss: 249800.5164\n",
      "Epoch 24/250\n",
      "700/700 [==============================] - 0s 65us/step - loss: 249020.1793\n",
      "Epoch 25/250\n",
      "700/700 [==============================] - 0s 59us/step - loss: 248176.8023\n",
      "Epoch 26/250\n",
      "700/700 [==============================] - 0s 58us/step - loss: 247262.9365\n",
      "Epoch 27/250\n",
      "700/700 [==============================] - 0s 61us/step - loss: 246281.4163\n",
      "Epoch 28/250\n",
      "700/700 [==============================] - 0s 65us/step - loss: 245222.1180\n",
      "Epoch 29/250\n",
      "700/700 [==============================] - 0s 61us/step - loss: 244083.6584\n",
      "Epoch 30/250\n",
      "700/700 [==============================] - 0s 67us/step - loss: 242866.2729\n",
      "Epoch 31/250\n",
      "700/700 [==============================] - 0s 73us/step - loss: 241567.5066\n",
      "Epoch 32/250\n",
      "700/700 [==============================] - 0s 79us/step - loss: 240186.4124\n",
      "Epoch 33/250\n",
      "700/700 [==============================] - 0s 74us/step - loss: 238701.0290\n",
      "Epoch 34/250\n",
      "700/700 [==============================] - 0s 72us/step - loss: 237131.0886\n",
      "Epoch 35/250\n",
      "700/700 [==============================] - 0s 73us/step - loss: 235452.8643\n",
      "Epoch 36/250\n",
      "700/700 [==============================] - 0s 83us/step - loss: 233684.8874\n",
      "Epoch 37/250\n",
      "700/700 [==============================] - 0s 77us/step - loss: 231808.8550\n",
      "Epoch 38/250\n",
      "700/700 [==============================] - 0s 50us/step - loss: 229831.4656\n",
      "Epoch 39/250\n",
      "700/700 [==============================] - 0s 63us/step - loss: 227740.2584\n",
      "Epoch 40/250\n",
      "700/700 [==============================] - 0s 88us/step - loss: 225532.2169\n",
      "Epoch 41/250\n",
      "700/700 [==============================] - 0s 92us/step - loss: 223201.7071\n",
      "Epoch 42/250\n",
      "700/700 [==============================] - 0s 95us/step - loss: 220754.2686\n",
      "Epoch 43/250\n",
      "700/700 [==============================] - 0s 68us/step - loss: 218193.5002\n",
      "Epoch 44/250\n",
      "700/700 [==============================] - 0s 51us/step - loss: 215515.5187\n",
      "Epoch 45/250\n",
      "700/700 [==============================] - 0s 52us/step - loss: 212712.4469\n",
      "Epoch 46/250\n",
      "700/700 [==============================] - 0s 56us/step - loss: 209761.9872\n",
      "Epoch 47/250\n",
      "700/700 [==============================] - 0s 53us/step - loss: 206675.3037\n",
      "Epoch 48/250\n",
      "700/700 [==============================] - 0s 101us/step - loss: 203486.6196\n",
      "Epoch 49/250\n",
      "700/700 [==============================] - 0s 67us/step - loss: 200154.7464\n",
      "Epoch 50/250\n",
      "700/700 [==============================] - 0s 72us/step - loss: 196674.8948\n",
      "Epoch 51/250\n",
      "700/700 [==============================] - 0s 73us/step - loss: 193075.8562\n",
      "Epoch 52/250\n",
      "700/700 [==============================] - 0s 84us/step - loss: 189330.4656\n",
      "Epoch 53/250\n",
      "700/700 [==============================] - 0s 73us/step - loss: 185468.2995\n",
      "Epoch 54/250\n",
      "700/700 [==============================] - 0s 53us/step - loss: 181445.1117\n",
      "Epoch 55/250\n",
      "700/700 [==============================] - 0s 49us/step - loss: 177304.1451\n",
      "Epoch 56/250\n",
      "700/700 [==============================] - 0s 51us/step - loss: 173025.2477\n",
      "Epoch 57/250\n",
      "700/700 [==============================] - 0s 52us/step - loss: 168629.5655\n",
      "Epoch 58/250\n",
      "700/700 [==============================] - 0s 51us/step - loss: 164077.8549\n",
      "Epoch 59/250\n",
      "700/700 [==============================] - 0s 53us/step - loss: 159425.8629\n",
      "Epoch 60/250\n",
      "700/700 [==============================] - 0s 52us/step - loss: 154662.6606\n",
      "Epoch 61/250\n",
      "700/700 [==============================] - 0s 58us/step - loss: 149739.9901\n",
      "Epoch 62/250\n",
      "700/700 [==============================] - 0s 53us/step - loss: 144719.5962\n",
      "Epoch 63/250\n",
      "700/700 [==============================] - 0s 50us/step - loss: 139600.4053\n",
      "Epoch 64/250\n",
      "700/700 [==============================] - 0s 53us/step - loss: 134377.1289\n",
      "Epoch 65/250\n",
      "700/700 [==============================] - 0s 53us/step - loss: 129055.5688\n",
      "Epoch 66/250\n",
      "700/700 [==============================] - 0s 52us/step - loss: 123635.2207\n",
      "Epoch 67/250\n",
      "700/700 [==============================] - 0s 54us/step - loss: 118151.5106\n",
      "Epoch 68/250\n",
      "700/700 [==============================] - 0s 73us/step - loss: 112610.2288\n",
      "Epoch 69/250\n",
      "700/700 [==============================] - 0s 93us/step - loss: 106950.9493\n",
      "Epoch 70/250\n",
      "700/700 [==============================] - 0s 75us/step - loss: 101257.4671\n",
      "Epoch 71/250\n",
      "700/700 [==============================] - 0s 80us/step - loss: 95552.0425\n",
      "Epoch 72/250\n",
      "700/700 [==============================] - 0s 72us/step - loss: 89846.0869\n",
      "Epoch 73/250\n",
      "700/700 [==============================] - 0s 57us/step - loss: 84091.6100\n",
      "Epoch 74/250\n",
      "700/700 [==============================] - 0s 53us/step - loss: 78347.2068\n",
      "Epoch 75/250\n",
      "700/700 [==============================] - 0s 54us/step - loss: 72671.9601\n",
      "Epoch 76/250\n",
      "700/700 [==============================] - 0s 56us/step - loss: 67017.1642\n",
      "Epoch 77/250\n",
      "700/700 [==============================] - 0s 54us/step - loss: 61426.4723\n",
      "Epoch 78/250\n",
      "700/700 [==============================] - 0s 54us/step - loss: 55886.4394\n",
      "Epoch 79/250\n",
      "700/700 [==============================] - 0s 54us/step - loss: 50459.4650\n",
      "Epoch 80/250\n",
      "700/700 [==============================] - 0s 52us/step - loss: 45186.2551\n",
      "Epoch 81/250\n",
      "700/700 [==============================] - 0s 55us/step - loss: 40073.2489\n",
      "Epoch 82/250\n",
      "700/700 [==============================] - 0s 57us/step - loss: 35146.5204\n",
      "Epoch 83/250\n",
      "700/700 [==============================] - 0s 90us/step - loss: 30427.8685\n",
      "Epoch 84/250\n",
      "700/700 [==============================] - 0s 70us/step - loss: 25945.4156\n",
      "Epoch 85/250\n",
      "700/700 [==============================] - 0s 83us/step - loss: 21733.0583\n",
      "Epoch 86/250\n",
      "700/700 [==============================] - 0s 76us/step - loss: 17850.8954\n",
      "Epoch 87/250\n",
      "700/700 [==============================] - 0s 65us/step - loss: 14283.1443\n",
      "Epoch 88/250\n",
      "700/700 [==============================] - 0s 58us/step - loss: 11105.4456\n",
      "Epoch 89/250\n",
      "700/700 [==============================] - 0s 83us/step - loss: 8336.4288\n",
      "Epoch 90/250\n",
      "700/700 [==============================] - 0s 94us/step - loss: 5992.4265\n",
      "Epoch 91/250\n",
      "700/700 [==============================] - 0s 92us/step - loss: 4136.1390\n",
      "Epoch 92/250\n",
      "700/700 [==============================] - 0s 89us/step - loss: 2761.9080\n",
      "Epoch 93/250\n",
      "700/700 [==============================] - 0s 109us/step - loss: 1861.6642\n",
      "Epoch 94/250\n",
      "700/700 [==============================] - 0s 72us/step - loss: 1438.8145\n",
      "Epoch 95/250\n",
      "700/700 [==============================] - 0s 53us/step - loss: 1326.3397\n",
      "Epoch 96/250\n",
      "700/700 [==============================] - 0s 53us/step - loss: 1299.8043\n",
      "Epoch 97/250\n",
      "700/700 [==============================] - 0s 49us/step - loss: 1273.6143\n",
      "Epoch 98/250\n",
      "700/700 [==============================] - 0s 49us/step - loss: 1251.3780\n",
      "Epoch 99/250\n",
      "700/700 [==============================] - 0s 51us/step - loss: 1223.4833\n",
      "Epoch 100/250\n",
      "700/700 [==============================] - 0s 48us/step - loss: 1204.3709\n",
      "Epoch 101/250\n",
      "700/700 [==============================] - 0s 51us/step - loss: 1182.8480\n",
      "Epoch 102/250\n",
      "700/700 [==============================] - 0s 55us/step - loss: 1158.3870\n",
      "Epoch 103/250\n",
      "700/700 [==============================] - 0s 75us/step - loss: 1134.8842\n",
      "Epoch 104/250\n",
      "700/700 [==============================] - 0s 73us/step - loss: 1114.5027\n",
      "Epoch 105/250\n",
      "700/700 [==============================] - 0s 85us/step - loss: 1089.5640 0s - loss: 1089.11\n",
      "Epoch 106/250\n",
      "700/700 [==============================] - 0s 69us/step - loss: 1064.5322\n",
      "Epoch 107/250\n",
      "700/700 [==============================] - 0s 79us/step - loss: 1045.7541\n",
      "Epoch 108/250\n",
      "700/700 [==============================] - 0s 69us/step - loss: 1023.3268\n",
      "Epoch 109/250\n",
      "700/700 [==============================] - 0s 74us/step - loss: 999.3799\n",
      "Epoch 110/250\n",
      "700/700 [==============================] - 0s 69us/step - loss: 975.2517\n",
      "Epoch 111/250\n",
      "700/700 [==============================] - 0s 51us/step - loss: 955.0685\n",
      "Epoch 112/250\n",
      "700/700 [==============================] - 0s 47us/step - loss: 931.5482\n",
      "Epoch 113/250\n",
      "700/700 [==============================] - 0s 49us/step - loss: 909.5619\n",
      "Epoch 114/250\n",
      "700/700 [==============================] - 0s 56us/step - loss: 888.5665\n",
      "Epoch 115/250\n",
      "700/700 [==============================] - 0s 62us/step - loss: 866.6035\n",
      "Epoch 116/250\n",
      "700/700 [==============================] - 0s 93us/step - loss: 848.2232\n",
      "Epoch 117/250\n",
      "700/700 [==============================] - 0s 102us/step - loss: 828.3235\n",
      "Epoch 118/250\n",
      "700/700 [==============================] - 0s 95us/step - loss: 810.4691\n",
      "Epoch 119/250\n",
      "700/700 [==============================] - 0s 94us/step - loss: 787.0401\n",
      "Epoch 120/250\n",
      "700/700 [==============================] - 0s 68us/step - loss: 764.7033\n",
      "Epoch 121/250\n",
      "700/700 [==============================] - 0s 56us/step - loss: 745.0684\n",
      "Epoch 122/250\n",
      "700/700 [==============================] - 0s 59us/step - loss: 725.3417\n",
      "Epoch 123/250\n",
      "700/700 [==============================] - 0s 56us/step - loss: 703.8860\n",
      "Epoch 124/250\n",
      "700/700 [==============================] - 0s 54us/step - loss: 682.5398\n",
      "Epoch 125/250\n",
      "700/700 [==============================] - 0s 54us/step - loss: 661.2017\n",
      "Epoch 126/250\n",
      "700/700 [==============================] - 0s 63us/step - loss: 644.1261\n",
      "Epoch 127/250\n",
      "700/700 [==============================] - 0s 70us/step - loss: 624.0893\n",
      "Epoch 128/250\n",
      "700/700 [==============================] - 0s 81us/step - loss: 603.2302\n",
      "Epoch 129/250\n",
      "700/700 [==============================] - 0s 83us/step - loss: 583.4201\n",
      "Epoch 130/250\n",
      "700/700 [==============================] - 0s 87us/step - loss: 565.7536\n",
      "Epoch 131/250\n",
      "700/700 [==============================] - 0s 73us/step - loss: 550.0483\n",
      "Epoch 132/250\n",
      "700/700 [==============================] - 0s 62us/step - loss: 532.8821\n",
      "Epoch 133/250\n",
      "700/700 [==============================] - 0s 81us/step - loss: 514.7261\n",
      "Epoch 134/250\n",
      "700/700 [==============================] - 0s 72us/step - loss: 496.4396\n",
      "Epoch 135/250\n",
      "700/700 [==============================] - 0s 75us/step - loss: 480.3882\n",
      "Epoch 136/250\n",
      "700/700 [==============================] - 0s 67us/step - loss: 462.8888\n",
      "Epoch 137/250\n",
      "700/700 [==============================] - 0s 61us/step - loss: 446.0102\n",
      "Epoch 138/250\n",
      "700/700 [==============================] - 0s 58us/step - loss: 431.8612\n",
      "Epoch 139/250\n",
      "700/700 [==============================] - 0s 62us/step - loss: 415.6089\n",
      "Epoch 140/250\n",
      "700/700 [==============================] - 0s 62us/step - loss: 399.6903\n",
      "Epoch 141/250\n",
      "700/700 [==============================] - 0s 53us/step - loss: 384.7756\n",
      "Epoch 142/250\n",
      "700/700 [==============================] - 0s 70us/step - loss: 368.1669\n",
      "Epoch 143/250\n",
      "700/700 [==============================] - 0s 54us/step - loss: 352.8978\n",
      "Epoch 144/250\n",
      "700/700 [==============================] - 0s 60us/step - loss: 339.0377\n",
      "Epoch 145/250\n",
      "700/700 [==============================] - 0s 63us/step - loss: 324.4802\n",
      "Epoch 146/250\n",
      "700/700 [==============================] - 0s 66us/step - loss: 310.4002\n",
      "Epoch 147/250\n",
      "700/700 [==============================] - 0s 70us/step - loss: 297.7723\n",
      "Epoch 148/250\n",
      "700/700 [==============================] - 0s 74us/step - loss: 285.4432\n",
      "Epoch 149/250\n",
      "700/700 [==============================] - 0s 78us/step - loss: 274.3884\n",
      "Epoch 150/250\n",
      "700/700 [==============================] - 0s 72us/step - loss: 262.8304\n",
      "Epoch 151/250\n",
      "700/700 [==============================] - 0s 73us/step - loss: 251.4494\n",
      "Epoch 152/250\n",
      "700/700 [==============================] - 0s 71us/step - loss: 238.7671\n",
      "Epoch 153/250\n",
      "700/700 [==============================] - 0s 78us/step - loss: 228.6609\n",
      "Epoch 154/250\n",
      "700/700 [==============================] - 0s 59us/step - loss: 217.0947\n",
      "Epoch 155/250\n",
      "700/700 [==============================] - 0s 67us/step - loss: 207.6272\n",
      "Epoch 156/250\n",
      "700/700 [==============================] - 0s 73us/step - loss: 197.7906\n",
      "Epoch 157/250\n",
      "700/700 [==============================] - 0s 88us/step - loss: 187.6062\n",
      "Epoch 158/250\n",
      "700/700 [==============================] - 0s 80us/step - loss: 178.2058\n",
      "Epoch 159/250\n",
      "700/700 [==============================] - 0s 67us/step - loss: 168.0267\n",
      "Epoch 160/250\n",
      "700/700 [==============================] - 0s 69us/step - loss: 158.5431\n",
      "Epoch 161/250\n",
      "700/700 [==============================] - 0s 62us/step - loss: 148.8069\n",
      "Epoch 162/250\n",
      "700/700 [==============================] - 0s 60us/step - loss: 139.9811\n",
      "Epoch 163/250\n",
      "700/700 [==============================] - 0s 73us/step - loss: 131.8785\n",
      "Epoch 164/250\n",
      "700/700 [==============================] - 0s 67us/step - loss: 124.1472\n",
      "Epoch 165/250\n",
      "700/700 [==============================] - 0s 71us/step - loss: 117.1719\n",
      "Epoch 166/250\n",
      "700/700 [==============================] - 0s 66us/step - loss: 110.2911\n",
      "Epoch 167/250\n",
      "700/700 [==============================] - 0s 59us/step - loss: 104.8837\n",
      "Epoch 168/250\n",
      "700/700 [==============================] - 0s 63us/step - loss: 98.5661\n",
      "Epoch 169/250\n",
      "700/700 [==============================] - 0s 72us/step - loss: 93.3456\n",
      "Epoch 170/250\n",
      "700/700 [==============================] - 0s 58us/step - loss: 87.0562\n",
      "Epoch 171/250\n",
      "700/700 [==============================] - 0s 69us/step - loss: 81.8551\n",
      "Epoch 172/250\n",
      "700/700 [==============================] - 0s 62us/step - loss: 77.4307\n",
      "Epoch 173/250\n",
      "700/700 [==============================] - 0s 59us/step - loss: 72.7566\n",
      "Epoch 174/250\n",
      "700/700 [==============================] - 0s 136us/step - loss: 67.5896\n",
      "Epoch 175/250\n",
      "700/700 [==============================] - 0s 82us/step - loss: 64.9794\n",
      "Epoch 176/250\n",
      "700/700 [==============================] - ETA: 0s - loss: 59.59 - 0s 64us/step - loss: 60.6217\n",
      "Epoch 177/250\n",
      "700/700 [==============================] - 0s 83us/step - loss: 56.9267\n",
      "Epoch 178/250\n",
      "700/700 [==============================] - 0s 70us/step - loss: 53.3889\n",
      "Epoch 179/250\n",
      "700/700 [==============================] - 0s 63us/step - loss: 50.0954\n",
      "Epoch 180/250\n",
      "700/700 [==============================] - 0s 75us/step - loss: 46.3747\n",
      "Epoch 181/250\n",
      "700/700 [==============================] - 0s 64us/step - loss: 44.3380\n",
      "Epoch 182/250\n",
      "700/700 [==============================] - 0s 74us/step - loss: 41.3765\n",
      "Epoch 183/250\n",
      "700/700 [==============================] - 0s 87us/step - loss: 39.7819\n",
      "Epoch 184/250\n",
      "700/700 [==============================] - 0s 105us/step - loss: 37.7840\n",
      "Epoch 185/250\n",
      "700/700 [==============================] - 0s 69us/step - loss: 35.4871\n",
      "Epoch 186/250\n"
     ]
    },
    {
     "name": "stdout",
     "output_type": "stream",
     "text": [
      "700/700 [==============================] - 0s 71us/step - loss: 33.8609\n",
      "Epoch 187/250\n",
      "700/700 [==============================] - 0s 54us/step - loss: 33.1037\n",
      "Epoch 188/250\n",
      "700/700 [==============================] - 0s 55us/step - loss: 31.2595\n",
      "Epoch 189/250\n",
      "700/700 [==============================] - 0s 62us/step - loss: 30.5406\n",
      "Epoch 190/250\n",
      "700/700 [==============================] - 0s 58us/step - loss: 29.5072\n",
      "Epoch 191/250\n",
      "700/700 [==============================] - 0s 66us/step - loss: 29.2628\n",
      "Epoch 192/250\n",
      "700/700 [==============================] - 0s 77us/step - loss: 28.1405\n",
      "Epoch 193/250\n",
      "700/700 [==============================] - 0s 113us/step - loss: 27.7180\n",
      "Epoch 194/250\n",
      "700/700 [==============================] - 0s 101us/step - loss: 27.2588\n",
      "Epoch 195/250\n",
      "700/700 [==============================] - 0s 68us/step - loss: 26.6867\n",
      "Epoch 196/250\n",
      "700/700 [==============================] - 0s 61us/step - loss: 26.5911\n",
      "Epoch 197/250\n",
      "700/700 [==============================] - 0s 55us/step - loss: 25.7386\n",
      "Epoch 198/250\n",
      "700/700 [==============================] - 0s 56us/step - loss: 25.6475\n",
      "Epoch 199/250\n",
      "700/700 [==============================] - 0s 68us/step - loss: 25.3985\n",
      "Epoch 200/250\n",
      "700/700 [==============================] - 0s 58us/step - loss: 25.2679\n",
      "Epoch 201/250\n",
      "700/700 [==============================] - 0s 66us/step - loss: 25.2064\n",
      "Epoch 202/250\n",
      "700/700 [==============================] - 0s 58us/step - loss: 24.9401\n",
      "Epoch 203/250\n",
      "700/700 [==============================] - 0s 55us/step - loss: 25.2469\n",
      "Epoch 204/250\n",
      "700/700 [==============================] - 0s 61us/step - loss: 24.6738\n",
      "Epoch 205/250\n",
      "700/700 [==============================] - 0s 54us/step - loss: 24.8317\n",
      "Epoch 206/250\n",
      "700/700 [==============================] - 0s 54us/step - loss: 24.4773\n",
      "Epoch 207/250\n",
      "700/700 [==============================] - 0s 54us/step - loss: 24.6530\n",
      "Epoch 208/250\n",
      "700/700 [==============================] - 0s 55us/step - loss: 24.5950\n",
      "Epoch 209/250\n",
      "700/700 [==============================] - 0s 60us/step - loss: 24.4800\n",
      "Epoch 210/250\n",
      "700/700 [==============================] - 0s 52us/step - loss: 24.4222\n",
      "Epoch 211/250\n",
      "700/700 [==============================] - 0s 73us/step - loss: 24.6275\n",
      "Epoch 212/250\n",
      "700/700 [==============================] - 0s 58us/step - loss: 23.8613\n",
      "Epoch 213/250\n",
      "700/700 [==============================] - 0s 58us/step - loss: 24.1808\n",
      "Epoch 214/250\n",
      "700/700 [==============================] - 0s 57us/step - loss: 24.4006\n",
      "Epoch 215/250\n",
      "700/700 [==============================] - 0s 58us/step - loss: 24.3771\n",
      "Epoch 216/250\n",
      "700/700 [==============================] - 0s 57us/step - loss: 24.3661\n",
      "Epoch 217/250\n",
      "700/700 [==============================] - 0s 60us/step - loss: 24.1236\n",
      "Epoch 218/250\n",
      "700/700 [==============================] - 0s 72us/step - loss: 24.2777\n",
      "Epoch 219/250\n",
      "700/700 [==============================] - 0s 66us/step - loss: 24.3651\n",
      "Epoch 220/250\n",
      "700/700 [==============================] - 0s 57us/step - loss: 24.5943\n",
      "Epoch 221/250\n",
      "700/700 [==============================] - 0s 66us/step - loss: 24.1840\n",
      "Epoch 222/250\n",
      "700/700 [==============================] - 0s 57us/step - loss: 24.3537\n",
      "Epoch 223/250\n",
      "700/700 [==============================] - 0s 72us/step - loss: 24.1439\n",
      "Epoch 224/250\n",
      "700/700 [==============================] - 0s 52us/step - loss: 24.3180\n",
      "Epoch 225/250\n",
      "700/700 [==============================] - 0s 64us/step - loss: 24.3118\n",
      "Epoch 226/250\n",
      "700/700 [==============================] - 0s 58us/step - loss: 24.1716\n",
      "Epoch 227/250\n",
      "700/700 [==============================] - 0s 56us/step - loss: 24.0873\n",
      "Epoch 228/250\n",
      "700/700 [==============================] - 0s 61us/step - loss: 24.0161\n",
      "Epoch 229/250\n",
      "700/700 [==============================] - 0s 64us/step - loss: 24.4925\n",
      "Epoch 230/250\n",
      "700/700 [==============================] - 0s 69us/step - loss: 24.0201\n",
      "Epoch 231/250\n",
      "700/700 [==============================] - 0s 66us/step - loss: 24.2496\n",
      "Epoch 232/250\n",
      "700/700 [==============================] - 0s 56us/step - loss: 24.5013\n",
      "Epoch 233/250\n",
      "700/700 [==============================] - 0s 63us/step - loss: 23.8797\n",
      "Epoch 234/250\n",
      "700/700 [==============================] - 0s 141us/step - loss: 24.4759\n",
      "Epoch 235/250\n",
      "700/700 [==============================] - 0s 74us/step - loss: 24.2600\n",
      "Epoch 236/250\n",
      "700/700 [==============================] - 0s 69us/step - loss: 24.2514\n",
      "Epoch 237/250\n",
      "700/700 [==============================] - 0s 64us/step - loss: 24.2138\n",
      "Epoch 238/250\n",
      "700/700 [==============================] - 0s 65us/step - loss: 24.2817\n",
      "Epoch 239/250\n",
      "700/700 [==============================] - 0s 55us/step - loss: 23.9401\n",
      "Epoch 240/250\n",
      "700/700 [==============================] - 0s 58us/step - loss: 24.4176\n",
      "Epoch 241/250\n",
      "700/700 [==============================] - 0s 55us/step - loss: 24.2135\n",
      "Epoch 242/250\n",
      "700/700 [==============================] - 0s 58us/step - loss: 24.3901\n",
      "Epoch 243/250\n",
      "700/700 [==============================] - 0s 64us/step - loss: 24.2689\n",
      "Epoch 244/250\n",
      "700/700 [==============================] - 0s 65us/step - loss: 24.2228\n",
      "Epoch 245/250\n",
      "700/700 [==============================] - 0s 57us/step - loss: 24.1262\n",
      "Epoch 246/250\n",
      "700/700 [==============================] - 0s 54us/step - loss: 23.9676\n",
      "Epoch 247/250\n",
      "700/700 [==============================] - 0s 49us/step - loss: 24.3977\n",
      "Epoch 248/250\n",
      "700/700 [==============================] - 0s 68us/step - loss: 24.0595\n",
      "Epoch 249/250\n",
      "700/700 [==============================] - 0s 68us/step - loss: 24.4178\n",
      "Epoch 250/250\n",
      "700/700 [==============================] - 0s 57us/step - loss: 24.0401\n"
     ]
    },
    {
     "data": {
      "text/plain": [
       "<tensorflow.python.keras.callbacks.History at 0x7fdd1c077af0>"
      ]
     },
     "execution_count": 154,
     "metadata": {},
     "output_type": "execute_result"
    }
   ],
   "source": [
    "model.fit(x=X_train,y=y_train,epochs=250)"
   ]
  },
  {
   "cell_type": "code",
   "execution_count": 155,
   "metadata": {},
   "outputs": [],
   "source": [
    "loss_frame = pd.DataFrame(model.history.history)"
   ]
  },
  {
   "cell_type": "code",
   "execution_count": 156,
   "metadata": {},
   "outputs": [
    {
     "data": {
      "text/plain": [
       "<matplotlib.axes._subplots.AxesSubplot at 0x7fdd0a0245b0>"
      ]
     },
     "execution_count": 156,
     "metadata": {},
     "output_type": "execute_result"
    },
    {
     "data": {
      "image/png": "[encoded data removed]",
      "text/plain": [
       "<Figure size 432x288 with 1 Axes>"
      ]
     },
     "metadata": {
      "needs_background": "light"
     },
     "output_type": "display_data"
    }
   ],
   "source": [
    "loss_frame.plot()"
   ]
  },
  {
   "cell_type": "code",
   "execution_count": 157,
   "metadata": {},
   "outputs": [
    {
     "name": "stdout",
     "output_type": "stream",
     "text": [
      "300/300 [==============================] - 0s 610us/step\n"
     ]
    },
    {
     "data": {
      "text/plain": [
       "24.954703191121418"
      ]
     },
     "execution_count": 157,
     "metadata": {},
     "output_type": "execute_result"
    }
   ],
   "source": [
    "model.evaluate(X_test,y_test)"
   ]
  },
  {
   "cell_type": "code",
   "execution_count": 158,
   "metadata": {},
   "outputs": [],
   "source": [
    "predictions = model.predict(X_test)"
   ]
  },
  {
   "cell_type": "code",
   "execution_count": 159,
   "metadata": {},
   "outputs": [],
   "source": [
    "predictions = pd.Series(predictions.reshape(predictions.size,))"
   ]
  },
  {
   "cell_type": "code",
   "execution_count": 160,
   "metadata": {},
   "outputs": [],
   "source": [
    "pred_df = pd.DataFrame(y_test,columns=['Test True Y'])"
   ]
  },
  {
   "cell_type": "code",
   "execution_count": 161,
   "metadata": {},
   "outputs": [],
   "source": [
    "pred_df = pd.concat([pred_df,predictions],axis=1)"
   ]
  },
  {
   "cell_type": "code",
   "execution_count": 162,
   "metadata": {},
   "outputs": [],
   "source": [
    "pred_df.columns = ['Test True Y', 'Model Predictions']"
   ]
  },
  {
   "cell_type": "code",
   "execution_count": 163,
   "metadata": {},
   "outputs": [
    {
     "data": {
      "text/plain": [
       "<matplotlib.axes._subplots.AxesSubplot at 0x7fdd08378cd0>"
      ]
     },
     "execution_count": 163,
     "metadata": {},
     "output_type": "execute_result"
    },
    {
     "data": {
      "image/png": "[encoded data removed]",
      "text/plain": [
       "<Figure size 432x288 with 1 Axes>"
      ]
     },
     "metadata": {
      "needs_background": "light"
     },
     "output_type": "display_data"
    }
   ],
   "source": [
    "sns.scatterplot(x='Test True Y',y='Model Predictions',data=pred_df)"
   ]
  },
  {
   "cell_type": "code",
   "execution_count": 164,
   "metadata": {},
   "outputs": [],
   "source": [
    "from sklearn.metrics import mean_absolute_error, mean_squared_error"
   ]
  },
  {
   "cell_type": "code",
   "execution_count": 165,
   "metadata": {},
   "outputs": [
    {
     "data": {
      "text/plain": [
       "3.9985162090155213"
      ]
     },
     "execution_count": 165,
     "metadata": {},
     "output_type": "execute_result"
    }
   ],
   "source": [
    "mean_absolute_error(pred_df['Test True Y'],pred_df['Model Predictions'])"
   ]
  },
  {
   "cell_type": "code",
   "execution_count": 51,
   "metadata": {},
   "outputs": [],
   "source": [
    "# about 4 dollars off on average the entire test data set\n",
    "# comparing to the original data mean it is much less than 1% -> good model"
   ]
  },
  {
   "cell_type": "code",
   "execution_count": 53,
   "metadata": {},
   "outputs": [
    {
     "data": {
      "text/plain": [
       "5.258525169528491"
      ]
     },
     "execution_count": 53,
     "metadata": {},
     "output_type": "execute_result"
    }
   ],
   "source": [
    "np.sqrt(mean_squared_error(pred_df['Test True Y'],pred_df['Model Predictions']))"
   ]
  },
  {
   "cell_type": "code",
   "execution_count": 166,
   "metadata": {},
   "outputs": [],
   "source": [
    "new_gem = [[998,1000]]"
   ]
  },
  {
   "cell_type": "code",
   "execution_count": 167,
   "metadata": {},
   "outputs": [],
   "source": [
    "new_gem = scaler.transform(new_gem)"
   ]
  },
  {
   "cell_type": "code",
   "execution_count": 168,
   "metadata": {},
   "outputs": [
    {
     "data": {
      "text/plain": [
       "array([[419.4355]], dtype=float32)"
      ]
     },
     "execution_count": 168,
     "metadata": {},
     "output_type": "execute_result"
    }
   ],
   "source": [
    "model.predict(new_gem)"
   ]
  },
  {
   "cell_type": "code",
   "execution_count": 169,
   "metadata": {},
   "outputs": [],
   "source": [
    "# saving model\n",
    "from tensorflow.keras.models import load_model"
   ]
  },
  {
   "cell_type": "code",
   "execution_count": 171,
   "metadata": {},
   "outputs": [],
   "source": [
    "model.save('my_gem_model.h5')"
   ]
  },
  {
   "cell_type": "code",
   "execution_count": 172,
   "metadata": {},
   "outputs": [],
   "source": [
    "later_model = load_model('my_gem_model.h5')"
   ]
  },
  {
   "cell_type": "code",
   "execution_count": 173,
   "metadata": {},
   "outputs": [
    {
     "data": {
      "text/plain": [
       "array([[419.4355]], dtype=float32)"
      ]
     },
     "execution_count": 173,
     "metadata": {},
     "output_type": "execute_result"
    }
   ],
   "source": [
    "later_model.predict(new_gem)"
   ]
  },
  {
   "cell_type": "code",
   "execution_count": null,
   "metadata": {},
   "outputs": [],
   "source": []
  }
 ],
 "metadata": {
  "kernelspec": {
   "display_name": "Python 3",
   "language": "python",
   "name": "python3"
  },
  "language_info": {
   "codemirror_mode": {
    "name": "ipython",
    "version": 3
   },
   "file_extension": ".py",
   "mimetype": "text/x-python",
   "name": "python",
   "nbconvert_exporter": "python",
   "pygments_lexer": "ipython3",
   "version": "3.8.0"
  }
 },
 "nbformat": 4,
 "nbformat_minor": 2
}
