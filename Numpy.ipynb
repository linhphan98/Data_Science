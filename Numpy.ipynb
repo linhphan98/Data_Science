{
 "cells": [
  {
   "cell_type": "code",
   "execution_count": 1,
   "metadata": {},
   "outputs": [],
   "source": [
    "# Arrays\n",
    "\n",
    "import numpy as np\n",
    "\n",
    "my_list = [1,2,3]\n",
    "\n",
    "arr = np.array(my_list)\n",
    "\n",
    "my_mat = [[1,2,3], [4,5,6], [7,8,9]]\n",
    "\n",
    "mat = np.array(my_mat)\n",
    "\n",
    "np.arange(0,10,3)\n",
    "\n",
    "np.zeros((5,5))\n",
    "\n",
    "np.ones(5)\n",
    "\n",
    "np.linspace(0,5,10)\n",
    "\n",
    "np.eye(4) #identity matrix\n",
    "\n",
    "np.random.rand(5)\n",
    "\n",
    "np.random.rand(5,5)\n",
    "\n",
    "np.random.randn(2,2) #numbers from standard normal distribution from the mean of 0\n",
    "\n",
    "np.random.randint(1,23,4)\n",
    "\n",
    "\n",
    "\n",
    "arr = np.arange(25)\n",
    "\n",
    "ranarr = np.random.randint(0,50,10)\n",
    "\n",
    "arr.reshape(5,5)\n",
    "\n",
    "ranarr.max()\n",
    "\n",
    "ranarr.argmax() #index location of maximum number\n",
    "\n",
    "arr = arr.reshape(5,5)\n",
    "\n",
    "arr.shape\n",
    "\n",
    "arr.dtype"
   ]
  },
  {
   "cell_type": "code",
   "execution_count": null,
   "metadata": {},
   "outputs": [],
   "source": []
  },
  {
   "cell_type": "code",
   "execution_count": 42,
   "metadata": {},
   "outputs": [],
   "source": [
    "# Indexing and Selection\n",
    "import numpy as np"
   ]
  },
  {
   "cell_type": "code",
   "execution_count": 43,
   "metadata": {},
   "outputs": [],
   "source": [
    "arr = np.arange(0,11)\n",
    "\n",
    "arr[5:] = 100\n",
    "\n",
    "arr_copy = arr.copy()\n",
    "\n",
    "arr_copy[:] = 10\n",
    "\n",
    "\n",
    "\n",
    "arr_2d = np.array([[5,10,15], [20,25,30], [35,40,45]])\n",
    "\n",
    "arr_2d\n",
    "\n",
    "arr_2d[1:,2]\n",
    "\n",
    "arr[arr >4]"
   ]
  },
  {
   "cell_type": "code",
   "execution_count": null,
   "metadata": {},
   "outputs": [],
   "source": []
  },
  {
   "cell_type": "code",
   "execution_count": 160,
   "metadata": {},
   "outputs": [
    {
     "data": {
      "text/plain": [
       "array([55, 60, 65, 70, 75])"
      ]
     },
     "execution_count": 160,
     "metadata": {},
     "output_type": "execute_result"
    }
   ],
   "source": [
    "# exercise \n",
    "import numpy as np\n",
    "\n",
    "arr = np.zeros(10)\n",
    "\n",
    "arr_ones = np.ones(10)\n",
    "\n",
    "arr_fives = np.ones(10) * 5\n",
    "\n",
    "arr = np.arange(10,51)\n",
    "\n",
    "np.arange(10,51,2)\n",
    "\n",
    "np.array([[0,1,2],[3,4,5],[6,7,8]])\n",
    "\n",
    "np.eye(3)\n",
    "\n",
    "np.random.rand()\n",
    "\n",
    "np.random.randn(25)\n",
    "\n",
    "arr = np.arange(0.01,1.01,0.01)\n",
    "arr.reshape(10,10)\n",
    "\n",
    "np.linspace(0,1,20)\n",
    "\n",
    "mat = np.arange(1,26).reshape(5,5)\n",
    "\n",
    "mat[2:,1:]\n",
    "\n",
    "\n",
    "mat[3,4]\n",
    "\n",
    "mat[:3, 1].reshape(3,1)\n",
    "\n",
    "mat[4,:]\n",
    "\n",
    "mat[3:,:]\n",
    "\n",
    "np.sum(mat)\n",
    "\n",
    "np.std(mat)\n",
    "\n",
    "mat.sum(axis=0) # columns\n",
    "mat.sum(axis=1) # rows"
   ]
  },
  {
   "cell_type": "code",
   "execution_count": 161,
   "metadata": {},
   "outputs": [
    {
     "data": {
      "text/plain": [
       "array([ 15,  40,  65,  90, 115])"
      ]
     },
     "execution_count": 161,
     "metadata": {},
     "output_type": "execute_result"
    }
   ],
   "source": [
    "mat.sum(axis=1)"
   ]
  },
  {
   "cell_type": "code",
   "execution_count": null,
   "metadata": {},
   "outputs": [],
   "source": []
  }
 ],
 "metadata": {
  "kernelspec": {
   "display_name": "Python 3",
   "language": "python",
   "name": "python3"
  },
  "language_info": {
   "codemirror_mode": {
    "name": "ipython",
    "version": 3
   },
   "file_extension": ".py",
   "mimetype": "text/x-python",
   "name": "python",
   "nbconvert_exporter": "python",
   "pygments_lexer": "ipython3",
   "version": "3.8.0"
  }
 },
 "nbformat": 4,
 "nbformat_minor": 2
}
